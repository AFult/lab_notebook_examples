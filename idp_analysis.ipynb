{
 "cells": [
  {
   "cell_type": "code",
   "execution_count": 5,
   "metadata": {
    "collapsed": false
   },
   "outputs": [],
   "source": [
    "%load_ext rpy2.ipython\n",
    "%matplotlib inline"
   ]
  },
  {
   "cell_type": "code",
   "execution_count": 6,
   "metadata": {
    "collapsed": false
   },
   "outputs": [],
   "source": [
    "import pandas as pd\n",
    "import matplotlib.pyplot as plt\n",
    "import scipy.stats\n",
    "\n",
    "from functions import graphs \n",
    "from functions import permutation as perm\n",
    "from functions import data_manage as dm\n",
    "from collections import OrderedDict"
   ]
  },
  {
   "cell_type": "markdown",
   "metadata": {},
   "source": [
    "# Introduction\n",
    "\n",
    "\n",
    "This program finds the optimal curve for an animals performance in delayed discounting and finds the indifference point (IDP) at which a subject chooses the large reward in 50% of trials within a block based on an optimized least squares regression curve fit.\n",
    "\n",
    "It uses the hyperbolic formula a / (1 + k*d)\n",
    "\n",
    "* a = y value where x = 0\n",
    "* d = timepoint (x value)\n",
    "* k = value representing the slope\n",
    "  * greater value = steeper slope/more impulsive\n",
    "  * lesser value = flatter slope/less impulsive\n",
    "\n",
    "If the IDP at 50% occurs before the starting time delay (0 seconds) the animal is dropped from the analysis. The means are also attained where if the IDP at 50% > 60secs, there is no ceiling set, the ceiling is set at 60 and 300 seconds respectively."
   ]
  },
  {
   "cell_type": "markdown",
   "metadata": {},
   "source": [
    "##### Things to add\n",
    "\n",
    "1. make it easy to call raw data by group\n",
    "2. take out Kruskal-Wallis tests"
   ]
  },
  {
   "cell_type": "markdown",
   "metadata": {},
   "source": [
    "# Import Data and Find Indifference Points"
   ]
  },
  {
   "cell_type": "code",
   "execution_count": 7,
   "metadata": {
    "collapsed": true
   },
   "outputs": [],
   "source": [
    "f = 'data_examples/idp_example.xlsx'\n",
    "s = 'idp_data'"
   ]
  },
  {
   "cell_type": "code",
   "execution_count": 8,
   "metadata": {
    "collapsed": false
   },
   "outputs": [],
   "source": [
    "df = pd.read_excel(f, s)"
   ]
  },
  {
   "cell_type": "code",
   "execution_count": 11,
   "metadata": {
    "collapsed": false
   },
   "outputs": [],
   "source": [
    "info = dm.idp_frame(df)\n",
    "\n",
    "group_dict = OrderedDict(list(info.groupby('group', sort=False)))\n",
    "\n",
    "v50cn = 'v50_ceilNONE'\n",
    "v50c60 = 'v50_ceil60'\n",
    "v50c300 = 'v50_ceil300'\n",
    "k = 'k'"
   ]
  },
  {
   "cell_type": "markdown",
   "metadata": {},
   "source": [
    "### Parametric Analysis in R"
   ]
  },
  {
   "cell_type": "code",
   "execution_count": 12,
   "metadata": {
    "collapsed": true
   },
   "outputs": [],
   "source": [
    "%%R -i info\n",
    "#move into R environment for hypthothesis testing\n",
    "\n",
    "#format data into matrix\n",
    "matrix = data.frame(info)\n",
    "\n",
    "#build arrays for each variable of interest\n",
    "group <- matrix[,1]\n",
    "k <- matrix[,2]\n",
    "v_none <- matrix[,5]\n",
    "v_60 <- matrix[,6]\n",
    "v_300 <- matrix[,7]\n",
    "\n",
    "options(contrasts=c('contr.sum', 'contr.poly'))\n",
    "\n",
    "# build model for each anova\n",
    "fit_k = aov(k ~ group)\n",
    "fit_v_none = aov(v_none ~ matrix[,'group'])\n",
    "fit_v_60 = aov(v_60 ~ group)\n",
    "fit_v_300 = aov(v_300 ~ group)\n",
    "\n",
    "# runs anovas on each model with type III sum of squares\n",
    "anova_k = drop1(fit_k,~.,test='F')\n",
    "anova_none = drop1(fit_v_none,~.,test='F')\n",
    "anova_60 = drop1(fit_v_60,~.,test='F')\n",
    "anova_300 = drop1(fit_v_300,~.,test='F')"
   ]
  },
  {
   "cell_type": "markdown",
   "metadata": {},
   "source": [
    "# Data Tables"
   ]
  },
  {
   "cell_type": "markdown",
   "metadata": {},
   "source": [
    "### Individual Subjects Data"
   ]
  },
  {
   "cell_type": "code",
   "execution_count": 13,
   "metadata": {
    "collapsed": false
   },
   "outputs": [
    {
     "data": {
      "text/html": [
       "<div>\n",
       "<table border=\"1\" class=\"dataframe\">\n",
       "  <thead>\n",
       "    <tr style=\"text-align: right;\">\n",
       "      <th></th>\n",
       "      <th>group</th>\n",
       "      <th>k</th>\n",
       "      <th>STD_DEV_ERR_on_params</th>\n",
       "      <th>a</th>\n",
       "      <th>v50_ceilNONE</th>\n",
       "      <th>v50_ceil60</th>\n",
       "      <th>v50_ceil300</th>\n",
       "    </tr>\n",
       "  </thead>\n",
       "  <tbody>\n",
       "    <tr>\n",
       "      <th>2</th>\n",
       "      <td>PF</td>\n",
       "      <td>1.205207</td>\n",
       "      <td>0.352627</td>\n",
       "      <td>98.333333</td>\n",
       "      <td>0.802076</td>\n",
       "      <td>0.802076</td>\n",
       "      <td>0.802076</td>\n",
       "    </tr>\n",
       "    <tr>\n",
       "      <th>3</th>\n",
       "      <td>PF</td>\n",
       "      <td>2.087649</td>\n",
       "      <td>0.319801</td>\n",
       "      <td>96.666667</td>\n",
       "      <td>0.447074</td>\n",
       "      <td>0.447074</td>\n",
       "      <td>0.447074</td>\n",
       "    </tr>\n",
       "    <tr>\n",
       "      <th>4</th>\n",
       "      <td>PF</td>\n",
       "      <td>0.000381</td>\n",
       "      <td>0.000150</td>\n",
       "      <td>98.333333</td>\n",
       "      <td>2535.767224</td>\n",
       "      <td>60.000000</td>\n",
       "      <td>300.000000</td>\n",
       "    </tr>\n",
       "    <tr>\n",
       "      <th>27</th>\n",
       "      <td>PF</td>\n",
       "      <td>0.000913</td>\n",
       "      <td>0.000315</td>\n",
       "      <td>98.333333</td>\n",
       "      <td>1059.266034</td>\n",
       "      <td>60.000000</td>\n",
       "      <td>300.000000</td>\n",
       "    </tr>\n",
       "    <tr>\n",
       "      <th>26</th>\n",
       "      <td>PF</td>\n",
       "      <td>0.000500</td>\n",
       "      <td>0.000220</td>\n",
       "      <td>100.000000</td>\n",
       "      <td>2000.801712</td>\n",
       "      <td>60.000000</td>\n",
       "      <td>300.000000</td>\n",
       "    </tr>\n",
       "    <tr>\n",
       "      <th>25</th>\n",
       "      <td>PF</td>\n",
       "      <td>0.057991</td>\n",
       "      <td>0.009806</td>\n",
       "      <td>88.333333</td>\n",
       "      <td>13.220453</td>\n",
       "      <td>13.220453</td>\n",
       "      <td>13.220453</td>\n",
       "    </tr>\n",
       "    <tr>\n",
       "      <th>11</th>\n",
       "      <td>CET</td>\n",
       "      <td>1.175680</td>\n",
       "      <td>0.280784</td>\n",
       "      <td>100.000000</td>\n",
       "      <td>0.850572</td>\n",
       "      <td>0.850572</td>\n",
       "      <td>0.850572</td>\n",
       "    </tr>\n",
       "    <tr>\n",
       "      <th>12</th>\n",
       "      <td>CET</td>\n",
       "      <td>2.352917</td>\n",
       "      <td>0.732635</td>\n",
       "      <td>96.481481</td>\n",
       "      <td>0.395097</td>\n",
       "      <td>0.395097</td>\n",
       "      <td>0.395097</td>\n",
       "    </tr>\n",
       "    <tr>\n",
       "      <th>14</th>\n",
       "      <td>CET</td>\n",
       "      <td>0.308987</td>\n",
       "      <td>0.093630</td>\n",
       "      <td>100.000000</td>\n",
       "      <td>3.236378</td>\n",
       "      <td>3.236378</td>\n",
       "      <td>3.236378</td>\n",
       "    </tr>\n",
       "    <tr>\n",
       "      <th>30</th>\n",
       "      <td>CET</td>\n",
       "      <td>0.007864</td>\n",
       "      <td>0.002507</td>\n",
       "      <td>66.666667</td>\n",
       "      <td>42.385004</td>\n",
       "      <td>42.385004</td>\n",
       "      <td>42.385004</td>\n",
       "    </tr>\n",
       "    <tr>\n",
       "      <th>13</th>\n",
       "      <td>CET</td>\n",
       "      <td>0.038987</td>\n",
       "      <td>0.006785</td>\n",
       "      <td>66.666667</td>\n",
       "      <td>8.549837</td>\n",
       "      <td>8.549837</td>\n",
       "      <td>8.549837</td>\n",
       "    </tr>\n",
       "    <tr>\n",
       "      <th>32</th>\n",
       "      <td>CET</td>\n",
       "      <td>0.020069</td>\n",
       "      <td>0.005628</td>\n",
       "      <td>100.000000</td>\n",
       "      <td>49.828398</td>\n",
       "      <td>49.828398</td>\n",
       "      <td>49.828398</td>\n",
       "    </tr>\n",
       "    <tr>\n",
       "      <th>29</th>\n",
       "      <td>CET</td>\n",
       "      <td>0.119251</td>\n",
       "      <td>0.012672</td>\n",
       "      <td>96.666667</td>\n",
       "      <td>7.826635</td>\n",
       "      <td>7.826635</td>\n",
       "      <td>7.826635</td>\n",
       "    </tr>\n",
       "    <tr>\n",
       "      <th>33</th>\n",
       "      <td>CET</td>\n",
       "      <td>0.010697</td>\n",
       "      <td>0.004878</td>\n",
       "      <td>83.333333</td>\n",
       "      <td>62.321577</td>\n",
       "      <td>60.000000</td>\n",
       "      <td>62.321577</td>\n",
       "    </tr>\n",
       "    <tr>\n",
       "      <th>18</th>\n",
       "      <td>CET-TH</td>\n",
       "      <td>0.357552</td>\n",
       "      <td>0.098378</td>\n",
       "      <td>91.666667</td>\n",
       "      <td>2.330666</td>\n",
       "      <td>2.330666</td>\n",
       "      <td>2.330666</td>\n",
       "    </tr>\n",
       "    <tr>\n",
       "      <th>15</th>\n",
       "      <td>CET-TH</td>\n",
       "      <td>0.003478</td>\n",
       "      <td>0.000674</td>\n",
       "      <td>100.000000</td>\n",
       "      <td>287.494446</td>\n",
       "      <td>60.000000</td>\n",
       "      <td>287.494446</td>\n",
       "    </tr>\n",
       "    <tr>\n",
       "      <th>16</th>\n",
       "      <td>CET-TH</td>\n",
       "      <td>0.095702</td>\n",
       "      <td>0.045306</td>\n",
       "      <td>100.000000</td>\n",
       "      <td>10.449078</td>\n",
       "      <td>10.449078</td>\n",
       "      <td>10.449078</td>\n",
       "    </tr>\n",
       "    <tr>\n",
       "      <th>40</th>\n",
       "      <td>CET-TH</td>\n",
       "      <td>0.028708</td>\n",
       "      <td>0.010743</td>\n",
       "      <td>63.333333</td>\n",
       "      <td>9.288948</td>\n",
       "      <td>9.288948</td>\n",
       "      <td>9.288948</td>\n",
       "    </tr>\n",
       "    <tr>\n",
       "      <th>37</th>\n",
       "      <td>CET-TH</td>\n",
       "      <td>0.002734</td>\n",
       "      <td>0.001134</td>\n",
       "      <td>100.000000</td>\n",
       "      <td>365.789754</td>\n",
       "      <td>60.000000</td>\n",
       "      <td>300.000000</td>\n",
       "    </tr>\n",
       "    <tr>\n",
       "      <th>38</th>\n",
       "      <td>CET-TH</td>\n",
       "      <td>-0.002771</td>\n",
       "      <td>0.008357</td>\n",
       "      <td>16.666667</td>\n",
       "      <td>240.570116</td>\n",
       "      <td>60.000000</td>\n",
       "      <td>240.570116</td>\n",
       "    </tr>\n",
       "    <tr>\n",
       "      <th>35</th>\n",
       "      <td>CET-TH</td>\n",
       "      <td>0.018249</td>\n",
       "      <td>0.004596</td>\n",
       "      <td>100.000000</td>\n",
       "      <td>54.798626</td>\n",
       "      <td>54.798626</td>\n",
       "      <td>54.798626</td>\n",
       "    </tr>\n",
       "    <tr>\n",
       "      <th>19</th>\n",
       "      <td>CET-PTD</td>\n",
       "      <td>0.015430</td>\n",
       "      <td>0.004553</td>\n",
       "      <td>100.000000</td>\n",
       "      <td>64.809631</td>\n",
       "      <td>60.000000</td>\n",
       "      <td>64.809631</td>\n",
       "    </tr>\n",
       "    <tr>\n",
       "      <th>22</th>\n",
       "      <td>CET-PTD</td>\n",
       "      <td>0.054946</td>\n",
       "      <td>0.015914</td>\n",
       "      <td>95.952381</td>\n",
       "      <td>16.726441</td>\n",
       "      <td>16.726441</td>\n",
       "      <td>16.726441</td>\n",
       "    </tr>\n",
       "    <tr>\n",
       "      <th>21</th>\n",
       "      <td>CET-PTD</td>\n",
       "      <td>0.000116</td>\n",
       "      <td>0.000204</td>\n",
       "      <td>100.000000</td>\n",
       "      <td>8585.798487</td>\n",
       "      <td>60.000000</td>\n",
       "      <td>300.000000</td>\n",
       "    </tr>\n",
       "    <tr>\n",
       "      <th>43</th>\n",
       "      <td>CET-PTD</td>\n",
       "      <td>0.000598</td>\n",
       "      <td>0.000248</td>\n",
       "      <td>100.000000</td>\n",
       "      <td>1673.631012</td>\n",
       "      <td>60.000000</td>\n",
       "      <td>300.000000</td>\n",
       "    </tr>\n",
       "    <tr>\n",
       "      <th>34</th>\n",
       "      <td>CET-PTD</td>\n",
       "      <td>0.014222</td>\n",
       "      <td>0.000662</td>\n",
       "      <td>95.000000</td>\n",
       "      <td>63.281071</td>\n",
       "      <td>60.000000</td>\n",
       "      <td>63.281071</td>\n",
       "    </tr>\n",
       "    <tr>\n",
       "      <th>45</th>\n",
       "      <td>CET-PTD</td>\n",
       "      <td>0.174385</td>\n",
       "      <td>0.021357</td>\n",
       "      <td>100.000000</td>\n",
       "      <td>5.734442</td>\n",
       "      <td>5.734442</td>\n",
       "      <td>5.734442</td>\n",
       "    </tr>\n",
       "    <tr>\n",
       "      <th>41</th>\n",
       "      <td>CET-PTD</td>\n",
       "      <td>0.112040</td>\n",
       "      <td>0.028263</td>\n",
       "      <td>100.000000</td>\n",
       "      <td>8.925357</td>\n",
       "      <td>8.925357</td>\n",
       "      <td>8.925357</td>\n",
       "    </tr>\n",
       "    <tr>\n",
       "      <th>6</th>\n",
       "      <td>PTD-EAS</td>\n",
       "      <td>0.000131</td>\n",
       "      <td>0.000105</td>\n",
       "      <td>100.000000</td>\n",
       "      <td>7623.001570</td>\n",
       "      <td>60.000000</td>\n",
       "      <td>300.000000</td>\n",
       "    </tr>\n",
       "    <tr>\n",
       "      <th>7</th>\n",
       "      <td>PTD-EAS</td>\n",
       "      <td>0.429349</td>\n",
       "      <td>0.140394</td>\n",
       "      <td>95.000000</td>\n",
       "      <td>2.096196</td>\n",
       "      <td>2.096196</td>\n",
       "      <td>2.096196</td>\n",
       "    </tr>\n",
       "    <tr>\n",
       "      <th>23</th>\n",
       "      <td>PTD-EAS</td>\n",
       "      <td>0.271908</td>\n",
       "      <td>0.027739</td>\n",
       "      <td>88.333333</td>\n",
       "      <td>2.819580</td>\n",
       "      <td>2.819580</td>\n",
       "      <td>2.819580</td>\n",
       "    </tr>\n",
       "    <tr>\n",
       "      <th>50</th>\n",
       "      <td>PTD-EAS</td>\n",
       "      <td>0.282711</td>\n",
       "      <td>0.085386</td>\n",
       "      <td>98.333333</td>\n",
       "      <td>3.419276</td>\n",
       "      <td>3.419276</td>\n",
       "      <td>3.419276</td>\n",
       "    </tr>\n",
       "    <tr>\n",
       "      <th>5</th>\n",
       "      <td>PTD-EAS</td>\n",
       "      <td>0.147500</td>\n",
       "      <td>0.030728</td>\n",
       "      <td>68.095238</td>\n",
       "      <td>2.453600</td>\n",
       "      <td>2.453600</td>\n",
       "      <td>2.453600</td>\n",
       "    </tr>\n",
       "    <tr>\n",
       "      <th>48</th>\n",
       "      <td>PTD-EAS</td>\n",
       "      <td>0.017581</td>\n",
       "      <td>0.005702</td>\n",
       "      <td>100.000000</td>\n",
       "      <td>56.879823</td>\n",
       "      <td>56.879823</td>\n",
       "      <td>56.879823</td>\n",
       "    </tr>\n",
       "    <tr>\n",
       "      <th>49</th>\n",
       "      <td>PTD-EAS</td>\n",
       "      <td>0.026807</td>\n",
       "      <td>0.007621</td>\n",
       "      <td>100.000000</td>\n",
       "      <td>37.304037</td>\n",
       "      <td>37.304037</td>\n",
       "      <td>37.304037</td>\n",
       "    </tr>\n",
       "    <tr>\n",
       "      <th>52</th>\n",
       "      <td>PTD-EAS</td>\n",
       "      <td>0.057049</td>\n",
       "      <td>0.015836</td>\n",
       "      <td>100.000000</td>\n",
       "      <td>17.528785</td>\n",
       "      <td>17.528785</td>\n",
       "      <td>17.528785</td>\n",
       "    </tr>\n",
       "    <tr>\n",
       "      <th>11.1</th>\n",
       "      <td>PTD-MAS</td>\n",
       "      <td>1.174167</td>\n",
       "      <td>0.389187</td>\n",
       "      <td>95.000000</td>\n",
       "      <td>0.766501</td>\n",
       "      <td>0.766501</td>\n",
       "      <td>0.766501</td>\n",
       "    </tr>\n",
       "    <tr>\n",
       "      <th>58</th>\n",
       "      <td>PTD-MAS</td>\n",
       "      <td>1.956738</td>\n",
       "      <td>0.277010</td>\n",
       "      <td>98.333333</td>\n",
       "      <td>0.494019</td>\n",
       "      <td>0.494019</td>\n",
       "      <td>0.494019</td>\n",
       "    </tr>\n",
       "    <tr>\n",
       "      <th>51</th>\n",
       "      <td>PTD-MAS</td>\n",
       "      <td>1.821823</td>\n",
       "      <td>0.577805</td>\n",
       "      <td>93.333333</td>\n",
       "      <td>0.475714</td>\n",
       "      <td>0.475714</td>\n",
       "      <td>0.475714</td>\n",
       "    </tr>\n",
       "    <tr>\n",
       "      <th>13.1</th>\n",
       "      <td>PTD-MAS</td>\n",
       "      <td>0.253000</td>\n",
       "      <td>0.035166</td>\n",
       "      <td>85.000000</td>\n",
       "      <td>2.766796</td>\n",
       "      <td>2.766796</td>\n",
       "      <td>2.766796</td>\n",
       "    </tr>\n",
       "    <tr>\n",
       "      <th>24</th>\n",
       "      <td>PTD-MAS</td>\n",
       "      <td>0.153312</td>\n",
       "      <td>0.064236</td>\n",
       "      <td>100.000000</td>\n",
       "      <td>6.522638</td>\n",
       "      <td>6.522638</td>\n",
       "      <td>6.522638</td>\n",
       "    </tr>\n",
       "    <tr>\n",
       "      <th>18.1</th>\n",
       "      <td>PTD-MAS</td>\n",
       "      <td>0.952189</td>\n",
       "      <td>0.324634</td>\n",
       "      <td>100.000000</td>\n",
       "      <td>1.050211</td>\n",
       "      <td>1.050211</td>\n",
       "      <td>1.050211</td>\n",
       "    </tr>\n",
       "    <tr>\n",
       "      <th>26.1</th>\n",
       "      <td>PTD-MAS</td>\n",
       "      <td>0.034321</td>\n",
       "      <td>0.003624</td>\n",
       "      <td>50.370370</td>\n",
       "      <td>0.215829</td>\n",
       "      <td>0.215829</td>\n",
       "      <td>0.215829</td>\n",
       "    </tr>\n",
       "    <tr>\n",
       "      <th>17.1</th>\n",
       "      <td>PTD-MAS</td>\n",
       "      <td>0.225948</td>\n",
       "      <td>0.089247</td>\n",
       "      <td>100.000000</td>\n",
       "      <td>4.425797</td>\n",
       "      <td>4.425797</td>\n",
       "      <td>4.425797</td>\n",
       "    </tr>\n",
       "    <tr>\n",
       "      <th>57</th>\n",
       "      <td>PTD-MAS</td>\n",
       "      <td>0.534053</td>\n",
       "      <td>0.062063</td>\n",
       "      <td>100.000000</td>\n",
       "      <td>1.872472</td>\n",
       "      <td>1.872472</td>\n",
       "      <td>1.872472</td>\n",
       "    </tr>\n",
       "  </tbody>\n",
       "</table>\n",
       "</div>"
      ],
      "text/plain": [
       "        group         k  STD_DEV_ERR_on_params           a  v50_ceilNONE  \\\n",
       "2          PF  1.205207               0.352627   98.333333      0.802076   \n",
       "3          PF  2.087649               0.319801   96.666667      0.447074   \n",
       "4          PF  0.000381               0.000150   98.333333   2535.767224   \n",
       "27         PF  0.000913               0.000315   98.333333   1059.266034   \n",
       "26         PF  0.000500               0.000220  100.000000   2000.801712   \n",
       "25         PF  0.057991               0.009806   88.333333     13.220453   \n",
       "11        CET  1.175680               0.280784  100.000000      0.850572   \n",
       "12        CET  2.352917               0.732635   96.481481      0.395097   \n",
       "14        CET  0.308987               0.093630  100.000000      3.236378   \n",
       "30        CET  0.007864               0.002507   66.666667     42.385004   \n",
       "13        CET  0.038987               0.006785   66.666667      8.549837   \n",
       "32        CET  0.020069               0.005628  100.000000     49.828398   \n",
       "29        CET  0.119251               0.012672   96.666667      7.826635   \n",
       "33        CET  0.010697               0.004878   83.333333     62.321577   \n",
       "18     CET-TH  0.357552               0.098378   91.666667      2.330666   \n",
       "15     CET-TH  0.003478               0.000674  100.000000    287.494446   \n",
       "16     CET-TH  0.095702               0.045306  100.000000     10.449078   \n",
       "40     CET-TH  0.028708               0.010743   63.333333      9.288948   \n",
       "37     CET-TH  0.002734               0.001134  100.000000    365.789754   \n",
       "38     CET-TH -0.002771               0.008357   16.666667    240.570116   \n",
       "35     CET-TH  0.018249               0.004596  100.000000     54.798626   \n",
       "19    CET-PTD  0.015430               0.004553  100.000000     64.809631   \n",
       "22    CET-PTD  0.054946               0.015914   95.952381     16.726441   \n",
       "21    CET-PTD  0.000116               0.000204  100.000000   8585.798487   \n",
       "43    CET-PTD  0.000598               0.000248  100.000000   1673.631012   \n",
       "34    CET-PTD  0.014222               0.000662   95.000000     63.281071   \n",
       "45    CET-PTD  0.174385               0.021357  100.000000      5.734442   \n",
       "41    CET-PTD  0.112040               0.028263  100.000000      8.925357   \n",
       "6     PTD-EAS  0.000131               0.000105  100.000000   7623.001570   \n",
       "7     PTD-EAS  0.429349               0.140394   95.000000      2.096196   \n",
       "23    PTD-EAS  0.271908               0.027739   88.333333      2.819580   \n",
       "50    PTD-EAS  0.282711               0.085386   98.333333      3.419276   \n",
       "5     PTD-EAS  0.147500               0.030728   68.095238      2.453600   \n",
       "48    PTD-EAS  0.017581               0.005702  100.000000     56.879823   \n",
       "49    PTD-EAS  0.026807               0.007621  100.000000     37.304037   \n",
       "52    PTD-EAS  0.057049               0.015836  100.000000     17.528785   \n",
       "11.1  PTD-MAS  1.174167               0.389187   95.000000      0.766501   \n",
       "58    PTD-MAS  1.956738               0.277010   98.333333      0.494019   \n",
       "51    PTD-MAS  1.821823               0.577805   93.333333      0.475714   \n",
       "13.1  PTD-MAS  0.253000               0.035166   85.000000      2.766796   \n",
       "24    PTD-MAS  0.153312               0.064236  100.000000      6.522638   \n",
       "18.1  PTD-MAS  0.952189               0.324634  100.000000      1.050211   \n",
       "26.1  PTD-MAS  0.034321               0.003624   50.370370      0.215829   \n",
       "17.1  PTD-MAS  0.225948               0.089247  100.000000      4.425797   \n",
       "57    PTD-MAS  0.534053               0.062063  100.000000      1.872472   \n",
       "\n",
       "      v50_ceil60  v50_ceil300  \n",
       "2       0.802076     0.802076  \n",
       "3       0.447074     0.447074  \n",
       "4      60.000000   300.000000  \n",
       "27     60.000000   300.000000  \n",
       "26     60.000000   300.000000  \n",
       "25     13.220453    13.220453  \n",
       "11      0.850572     0.850572  \n",
       "12      0.395097     0.395097  \n",
       "14      3.236378     3.236378  \n",
       "30     42.385004    42.385004  \n",
       "13      8.549837     8.549837  \n",
       "32     49.828398    49.828398  \n",
       "29      7.826635     7.826635  \n",
       "33     60.000000    62.321577  \n",
       "18      2.330666     2.330666  \n",
       "15     60.000000   287.494446  \n",
       "16     10.449078    10.449078  \n",
       "40      9.288948     9.288948  \n",
       "37     60.000000   300.000000  \n",
       "38     60.000000   240.570116  \n",
       "35     54.798626    54.798626  \n",
       "19     60.000000    64.809631  \n",
       "22     16.726441    16.726441  \n",
       "21     60.000000   300.000000  \n",
       "43     60.000000   300.000000  \n",
       "34     60.000000    63.281071  \n",
       "45      5.734442     5.734442  \n",
       "41      8.925357     8.925357  \n",
       "6      60.000000   300.000000  \n",
       "7       2.096196     2.096196  \n",
       "23      2.819580     2.819580  \n",
       "50      3.419276     3.419276  \n",
       "5       2.453600     2.453600  \n",
       "48     56.879823    56.879823  \n",
       "49     37.304037    37.304037  \n",
       "52     17.528785    17.528785  \n",
       "11.1    0.766501     0.766501  \n",
       "58      0.494019     0.494019  \n",
       "51      0.475714     0.475714  \n",
       "13.1    2.766796     2.766796  \n",
       "24      6.522638     6.522638  \n",
       "18.1    1.050211     1.050211  \n",
       "26.1    0.215829     0.215829  \n",
       "17.1    4.425797     4.425797  \n",
       "57      1.872472     1.872472  "
      ]
     },
     "execution_count": 13,
     "metadata": {},
     "output_type": "execute_result"
    }
   ],
   "source": [
    "info"
   ]
  },
  {
   "cell_type": "markdown",
   "metadata": {},
   "source": [
    "### Subjects who had set ceilings"
   ]
  },
  {
   "cell_type": "code",
   "execution_count": 14,
   "metadata": {
    "collapsed": false
   },
   "outputs": [
    {
     "data": {
      "text/html": [
       "<div>\n",
       "<table border=\"1\" class=\"dataframe\">\n",
       "  <thead>\n",
       "    <tr style=\"text-align: right;\">\n",
       "      <th></th>\n",
       "      <th>group</th>\n",
       "      <th>k</th>\n",
       "      <th>STD_DEV_ERR_on_params</th>\n",
       "      <th>a</th>\n",
       "      <th>v50_ceilNONE</th>\n",
       "      <th>v50_ceil60</th>\n",
       "      <th>v50_ceil300</th>\n",
       "    </tr>\n",
       "  </thead>\n",
       "  <tbody>\n",
       "    <tr>\n",
       "      <th>4</th>\n",
       "      <td>PF</td>\n",
       "      <td>0.000381</td>\n",
       "      <td>0.000150</td>\n",
       "      <td>98.333333</td>\n",
       "      <td>2535.767224</td>\n",
       "      <td>60</td>\n",
       "      <td>300.000000</td>\n",
       "    </tr>\n",
       "    <tr>\n",
       "      <th>27</th>\n",
       "      <td>PF</td>\n",
       "      <td>0.000913</td>\n",
       "      <td>0.000315</td>\n",
       "      <td>98.333333</td>\n",
       "      <td>1059.266034</td>\n",
       "      <td>60</td>\n",
       "      <td>300.000000</td>\n",
       "    </tr>\n",
       "    <tr>\n",
       "      <th>26</th>\n",
       "      <td>PF</td>\n",
       "      <td>0.000500</td>\n",
       "      <td>0.000220</td>\n",
       "      <td>100.000000</td>\n",
       "      <td>2000.801712</td>\n",
       "      <td>60</td>\n",
       "      <td>300.000000</td>\n",
       "    </tr>\n",
       "    <tr>\n",
       "      <th>33</th>\n",
       "      <td>CET</td>\n",
       "      <td>0.010697</td>\n",
       "      <td>0.004878</td>\n",
       "      <td>83.333333</td>\n",
       "      <td>62.321577</td>\n",
       "      <td>60</td>\n",
       "      <td>62.321577</td>\n",
       "    </tr>\n",
       "    <tr>\n",
       "      <th>15</th>\n",
       "      <td>CET-TH</td>\n",
       "      <td>0.003478</td>\n",
       "      <td>0.000674</td>\n",
       "      <td>100.000000</td>\n",
       "      <td>287.494446</td>\n",
       "      <td>60</td>\n",
       "      <td>287.494446</td>\n",
       "    </tr>\n",
       "    <tr>\n",
       "      <th>37</th>\n",
       "      <td>CET-TH</td>\n",
       "      <td>0.002734</td>\n",
       "      <td>0.001134</td>\n",
       "      <td>100.000000</td>\n",
       "      <td>365.789754</td>\n",
       "      <td>60</td>\n",
       "      <td>300.000000</td>\n",
       "    </tr>\n",
       "    <tr>\n",
       "      <th>38</th>\n",
       "      <td>CET-TH</td>\n",
       "      <td>-0.002771</td>\n",
       "      <td>0.008357</td>\n",
       "      <td>16.666667</td>\n",
       "      <td>240.570116</td>\n",
       "      <td>60</td>\n",
       "      <td>240.570116</td>\n",
       "    </tr>\n",
       "    <tr>\n",
       "      <th>19</th>\n",
       "      <td>CET-PTD</td>\n",
       "      <td>0.015430</td>\n",
       "      <td>0.004553</td>\n",
       "      <td>100.000000</td>\n",
       "      <td>64.809631</td>\n",
       "      <td>60</td>\n",
       "      <td>64.809631</td>\n",
       "    </tr>\n",
       "    <tr>\n",
       "      <th>21</th>\n",
       "      <td>CET-PTD</td>\n",
       "      <td>0.000116</td>\n",
       "      <td>0.000204</td>\n",
       "      <td>100.000000</td>\n",
       "      <td>8585.798487</td>\n",
       "      <td>60</td>\n",
       "      <td>300.000000</td>\n",
       "    </tr>\n",
       "    <tr>\n",
       "      <th>43</th>\n",
       "      <td>CET-PTD</td>\n",
       "      <td>0.000598</td>\n",
       "      <td>0.000248</td>\n",
       "      <td>100.000000</td>\n",
       "      <td>1673.631012</td>\n",
       "      <td>60</td>\n",
       "      <td>300.000000</td>\n",
       "    </tr>\n",
       "    <tr>\n",
       "      <th>34</th>\n",
       "      <td>CET-PTD</td>\n",
       "      <td>0.014222</td>\n",
       "      <td>0.000662</td>\n",
       "      <td>95.000000</td>\n",
       "      <td>63.281071</td>\n",
       "      <td>60</td>\n",
       "      <td>63.281071</td>\n",
       "    </tr>\n",
       "    <tr>\n",
       "      <th>6</th>\n",
       "      <td>PTD-EAS</td>\n",
       "      <td>0.000131</td>\n",
       "      <td>0.000105</td>\n",
       "      <td>100.000000</td>\n",
       "      <td>7623.001570</td>\n",
       "      <td>60</td>\n",
       "      <td>300.000000</td>\n",
       "    </tr>\n",
       "  </tbody>\n",
       "</table>\n",
       "</div>"
      ],
      "text/plain": [
       "      group         k  STD_DEV_ERR_on_params           a  v50_ceilNONE  \\\n",
       "4        PF  0.000381               0.000150   98.333333   2535.767224   \n",
       "27       PF  0.000913               0.000315   98.333333   1059.266034   \n",
       "26       PF  0.000500               0.000220  100.000000   2000.801712   \n",
       "33      CET  0.010697               0.004878   83.333333     62.321577   \n",
       "15   CET-TH  0.003478               0.000674  100.000000    287.494446   \n",
       "37   CET-TH  0.002734               0.001134  100.000000    365.789754   \n",
       "38   CET-TH -0.002771               0.008357   16.666667    240.570116   \n",
       "19  CET-PTD  0.015430               0.004553  100.000000     64.809631   \n",
       "21  CET-PTD  0.000116               0.000204  100.000000   8585.798487   \n",
       "43  CET-PTD  0.000598               0.000248  100.000000   1673.631012   \n",
       "34  CET-PTD  0.014222               0.000662   95.000000     63.281071   \n",
       "6   PTD-EAS  0.000131               0.000105  100.000000   7623.001570   \n",
       "\n",
       "    v50_ceil60  v50_ceil300  \n",
       "4           60   300.000000  \n",
       "27          60   300.000000  \n",
       "26          60   300.000000  \n",
       "33          60    62.321577  \n",
       "15          60   287.494446  \n",
       "37          60   300.000000  \n",
       "38          60   240.570116  \n",
       "19          60    64.809631  \n",
       "21          60   300.000000  \n",
       "43          60   300.000000  \n",
       "34          60    63.281071  \n",
       "6           60   300.000000  "
      ]
     },
     "execution_count": 14,
     "metadata": {},
     "output_type": "execute_result"
    }
   ],
   "source": [
    "cs = info[info['v50_ceil300'] >= 60]\n",
    "cs"
   ]
  },
  {
   "cell_type": "markdown",
   "metadata": {},
   "source": [
    "#### Used mean from V_50ceilNONE to determine ceiling set at 300"
   ]
  },
  {
   "cell_type": "code",
   "execution_count": 15,
   "metadata": {
    "collapsed": false
   },
   "outputs": [
    {
     "data": {
      "text/plain": [
       "k                          0.001147\n",
       "STD_DEV_ERR_on_params      0.003388\n",
       "a                         72.222222\n",
       "v50_ceilNONE             297.951439\n",
       "v50_ceil60                60.000000\n",
       "v50_ceil300              276.021521\n",
       "dtype: float64"
      ]
     },
     "execution_count": 15,
     "metadata": {},
     "output_type": "execute_result"
    }
   ],
   "source": [
    "cs2 = cs[cs['v50_ceilNONE'] >= 70] \n",
    "\n",
    "cs2[cs2['v50_ceilNONE'] < 1000].mean()"
   ]
  },
  {
   "cell_type": "markdown",
   "metadata": {},
   "source": [
    "# Analysis\n"
   ]
  },
  {
   "cell_type": "markdown",
   "metadata": {},
   "source": [
    "## Group Timepoint Means "
   ]
  },
  {
   "cell_type": "code",
   "execution_count": 16,
   "metadata": {
    "collapsed": false
   },
   "outputs": [
    {
     "data": {
      "text/plain": [
       "<matplotlib.legend.Legend at 0x11d683bd0>"
      ]
     },
     "execution_count": 16,
     "metadata": {},
     "output_type": "execute_result"
    },
    {
     "data": {
      "image/png": "[encoded data removed]",
      "text/plain": [
       "<matplotlib.figure.Figure at 0x113145890>"
      ]
     },
     "metadata": {},
     "output_type": "display_data"
    }
   ],
   "source": [
    "g, g_sem = dm.gb_groups(df)\n",
    "\n",
    "fig, ax = plt.subplots()\n",
    "\n",
    "x = df.index\n",
    "\n",
    "ax.errorbar(x, g['PF'], yerr=g_sem['PF'], fmt='-', label='PF')\n",
    "ax.errorbar(x, g['CET'], yerr=g_sem['CET'], fmt='-', label='CET')\n",
    "ax.errorbar(x, g['CET-TH'], yerr=g_sem['CET-TH'], fmt='-', label='CET-TH')\n",
    "ax.errorbar(x, g['CET-PTD'], yerr=g_sem['CET-PTD'], fmt='-', label='CET-PTD')\n",
    "ax.errorbar(x, g['PTD-MAS'], yerr=g_sem['PTD-MAS'], fmt='-', label ='PTD-MAS')\n",
    "ax.errorbar(x, g['PTD-EAS'], yerr=g_sem['PTD-EAS'], fmt='-', label='PTD-EAS')\n",
    "ax.spines['right'].set_visible(False)\n",
    "ax.spines['top'].set_visible(False)\n",
    "ax.yaxis.set_ticks_position('left')\n",
    "ax.xaxis.set_ticks_position('bottom')\n",
    "ax.legend(bbox_to_anchor=(1.05, 1), loc=2, borderaxespad=0.)"
   ]
  },
  {
   "cell_type": "code",
   "execution_count": 17,
   "metadata": {
    "collapsed": false
   },
   "outputs": [
    {
     "data": {
      "text/html": [
       "<div>\n",
       "<table border=\"1\" class=\"dataframe\">\n",
       "  <thead>\n",
       "    <tr style=\"text-align: right;\">\n",
       "      <th></th>\n",
       "      <th>group</th>\n",
       "      <th>k</th>\n",
       "      <th>STD_DEV_ERR_on_params</th>\n",
       "      <th>a</th>\n",
       "      <th>v50_ceilNONE</th>\n",
       "      <th>v50_ceil60</th>\n",
       "      <th>v50_ceil300</th>\n",
       "    </tr>\n",
       "  </thead>\n",
       "  <tbody>\n",
       "    <tr>\n",
       "      <th>2</th>\n",
       "      <td>PF</td>\n",
       "      <td>1.205207</td>\n",
       "      <td>0.352627</td>\n",
       "      <td>98.333333</td>\n",
       "      <td>0.802076</td>\n",
       "      <td>0.802076</td>\n",
       "      <td>0.802076</td>\n",
       "    </tr>\n",
       "    <tr>\n",
       "      <th>3</th>\n",
       "      <td>PF</td>\n",
       "      <td>2.087649</td>\n",
       "      <td>0.319801</td>\n",
       "      <td>96.666667</td>\n",
       "      <td>0.447074</td>\n",
       "      <td>0.447074</td>\n",
       "      <td>0.447074</td>\n",
       "    </tr>\n",
       "    <tr>\n",
       "      <th>4</th>\n",
       "      <td>PF</td>\n",
       "      <td>0.000381</td>\n",
       "      <td>0.000150</td>\n",
       "      <td>98.333333</td>\n",
       "      <td>2535.767224</td>\n",
       "      <td>60.000000</td>\n",
       "      <td>300.000000</td>\n",
       "    </tr>\n",
       "    <tr>\n",
       "      <th>27</th>\n",
       "      <td>PF</td>\n",
       "      <td>0.000913</td>\n",
       "      <td>0.000315</td>\n",
       "      <td>98.333333</td>\n",
       "      <td>1059.266034</td>\n",
       "      <td>60.000000</td>\n",
       "      <td>300.000000</td>\n",
       "    </tr>\n",
       "    <tr>\n",
       "      <th>26</th>\n",
       "      <td>PF</td>\n",
       "      <td>0.000500</td>\n",
       "      <td>0.000220</td>\n",
       "      <td>100.000000</td>\n",
       "      <td>2000.801712</td>\n",
       "      <td>60.000000</td>\n",
       "      <td>300.000000</td>\n",
       "    </tr>\n",
       "    <tr>\n",
       "      <th>25</th>\n",
       "      <td>PF</td>\n",
       "      <td>0.057991</td>\n",
       "      <td>0.009806</td>\n",
       "      <td>88.333333</td>\n",
       "      <td>13.220453</td>\n",
       "      <td>13.220453</td>\n",
       "      <td>13.220453</td>\n",
       "    </tr>\n",
       "  </tbody>\n",
       "</table>\n",
       "</div>"
      ],
      "text/plain": [
       "   group         k  STD_DEV_ERR_on_params           a  v50_ceilNONE  \\\n",
       "2     PF  1.205207               0.352627   98.333333      0.802076   \n",
       "3     PF  2.087649               0.319801   96.666667      0.447074   \n",
       "4     PF  0.000381               0.000150   98.333333   2535.767224   \n",
       "27    PF  0.000913               0.000315   98.333333   1059.266034   \n",
       "26    PF  0.000500               0.000220  100.000000   2000.801712   \n",
       "25    PF  0.057991               0.009806   88.333333     13.220453   \n",
       "\n",
       "    v50_ceil60  v50_ceil300  \n",
       "2     0.802076     0.802076  \n",
       "3     0.447074     0.447074  \n",
       "4    60.000000   300.000000  \n",
       "27   60.000000   300.000000  \n",
       "26   60.000000   300.000000  \n",
       "25   13.220453    13.220453  "
      ]
     },
     "execution_count": 17,
     "metadata": {},
     "output_type": "execute_result"
    }
   ],
   "source": [
    "group_dict['PF']"
   ]
  },
  {
   "cell_type": "markdown",
   "metadata": {},
   "source": [
    "## Indifference Point with No Ceiling"
   ]
  },
  {
   "cell_type": "code",
   "execution_count": 18,
   "metadata": {
    "collapsed": false
   },
   "outputs": [
    {
     "data": {
      "image/png": "[encoded data removed]",
      "text/plain": [
       "<matplotlib.figure.Figure at 0x11a77e890>"
      ]
     },
     "metadata": {},
     "output_type": "display_data"
    }
   ],
   "source": [
    "f, ax = plt.subplots(figsize = (12,10))\n",
    "\n",
    "graphs.bar(dm.by_group(info, 'group', 'v50_ceilNONE'), ax=ax)"
   ]
  },
  {
   "cell_type": "markdown",
   "metadata": {},
   "source": [
    "##### Kruskal-Wallis Test"
   ]
  },
  {
   "cell_type": "code",
   "execution_count": 19,
   "metadata": {
    "collapsed": false
   },
   "outputs": [
    {
     "data": {
      "text/plain": [
       "KruskalResult(statistic=15.353761214630794, pvalue=0.0089530339236371017)"
      ]
     },
     "execution_count": 19,
     "metadata": {},
     "output_type": "execute_result"
    }
   ],
   "source": [
    "scipy.stats.mstats.kruskalwallis(*[group[v50cn] for group in group_dict.values()])"
   ]
  },
  {
   "cell_type": "markdown",
   "metadata": {},
   "source": [
    "##### Permutation F-Test"
   ]
  },
  {
   "cell_type": "code",
   "execution_count": 20,
   "metadata": {
    "collapsed": false
   },
   "outputs": [
    {
     "data": {
      "text/plain": [
       "'F(5, 39) = 0.962328057109, p = 0.39133'"
      ]
     },
     "execution_count": 20,
     "metadata": {},
     "output_type": "execute_result"
    }
   ],
   "source": [
    "report, p = perm.permuted_f([group[v50cn] for group in group_dict.values()],\n",
    "                        num_permutes = 100000)\n",
    "\n",
    "if p <= .05:\n",
    "    df_t, df_p = perm.perm_mc_ttests([group[v50cn] for group in group_dict.values()],\n",
    "                                nperms = 10000,\n",
    "                                labels = group_dict.keys())\n",
    "else:\n",
    "    df_t = pd.DataFrame()\n",
    "    \n",
    "report"
   ]
  },
  {
   "cell_type": "code",
   "execution_count": 21,
   "metadata": {
    "collapsed": true
   },
   "outputs": [],
   "source": [
    "if df_t.empty == False:\n",
    "    print df_t\n",
    "    print\n",
    "    print df_p"
   ]
  },
  {
   "cell_type": "markdown",
   "metadata": {},
   "source": [
    "##### parametric F-Test in R"
   ]
  },
  {
   "cell_type": "code",
   "execution_count": 22,
   "metadata": {
    "collapsed": false
   },
   "outputs": [
    {
     "data": {
      "text/plain": [
       "Single term deletions\n",
       "\n",
       "Model:\n",
       "v_none ~ matrix[, \"group\"]\n",
       "                  Df Sum of Sq       RSS    AIC F value Pr(>F)\n",
       "<none>                         118090973 677.11               \n",
       "matrix[, \"group\"]  5  14569520 132660493 672.35  0.9623 0.4526\n"
      ]
     },
     "metadata": {},
     "output_type": "display_data"
    }
   ],
   "source": [
    "%%R\n",
    "\n",
    "# 1-way anova for timepoint at which indifference point = 50% with no ceiling\n",
    "anova_none"
   ]
  },
  {
   "cell_type": "markdown",
   "metadata": {},
   "source": [
    "## Indifference Point with Ceiling Set at 60"
   ]
  },
  {
   "cell_type": "code",
   "execution_count": 23,
   "metadata": {
    "collapsed": false
   },
   "outputs": [
    {
     "data": {
      "image/png": "[encoded data removed]",
      "text/plain": [
       "<matplotlib.figure.Figure at 0x11da9d550>"
      ]
     },
     "metadata": {},
     "output_type": "display_data"
    }
   ],
   "source": [
    "f, ax = plt.subplots(figsize = (12,10))\n",
    "\n",
    "graphs.histo(group_dict, 'v50_ceil60', bins=10, normed=True, ax=ax)"
   ]
  },
  {
   "cell_type": "code",
   "execution_count": 24,
   "metadata": {
    "collapsed": false
   },
   "outputs": [
    {
     "data": {
      "image/png": "[encoded data removed]",
      "text/plain": [
       "<matplotlib.figure.Figure at 0x11e7c3210>"
      ]
     },
     "metadata": {},
     "output_type": "display_data"
    }
   ],
   "source": [
    "# graph for time at which indifference point = 50% with ceiling set at 60 \n",
    "\n",
    "f, ax = plt.subplots(figsize = (8,6))\n",
    "graphs.bar(dm.by_group(info, 'group', 'v50_ceil60'), ax=ax)"
   ]
  },
  {
   "cell_type": "markdown",
   "metadata": {},
   "source": [
    "##### Kruskal-Wallis Test"
   ]
  },
  {
   "cell_type": "code",
   "execution_count": 25,
   "metadata": {
    "collapsed": false
   },
   "outputs": [
    {
     "data": {
      "text/plain": [
       "KruskalResult(statistic=15.707797003587249, pvalue=0.0077297846845078757)"
      ]
     },
     "execution_count": 25,
     "metadata": {},
     "output_type": "execute_result"
    }
   ],
   "source": [
    "scipy.stats.mstats.kruskalwallis(*[group[v50c60] for group in group_dict.values()])"
   ]
  },
  {
   "cell_type": "markdown",
   "metadata": {},
   "source": [
    "##### Permutation F-Test"
   ]
  },
  {
   "cell_type": "code",
   "execution_count": 26,
   "metadata": {
    "collapsed": false
   },
   "outputs": [
    {
     "data": {
      "text/plain": [
       "'F(5, 39) = 2.61617269936, p = 0.04196'"
      ]
     },
     "execution_count": 26,
     "metadata": {},
     "output_type": "execute_result"
    }
   ],
   "source": [
    "report, p = perm.permuted_f([group[v50c60] for group in group_dict.values()],\n",
    "                        num_permutes = 100000)\n",
    "\n",
    "if p <= .05:\n",
    "    df_t, df_p = perm.perm_mc_ttests([group[v50c60] for group in group_dict.values()],\n",
    "                                nperms = 10000,\n",
    "                                labels=group_dict.keys())\n",
    "else:\n",
    "    df_t = pd.DataFrame()\n",
    "    \n",
    "report"
   ]
  },
  {
   "cell_type": "code",
   "execution_count": 27,
   "metadata": {
    "collapsed": false
   },
   "outputs": [
    {
     "name": "stdout",
     "output_type": "stream",
     "text": [
      "              CET    CET-TH   CET-PTD    PTD-EAS  PTD-MAS\n",
      "PF       0.707287 -0.263271 -0.396255   0.627048  2.42755\n",
      "CET           NaN  -1.10601  -1.28389 -0.0946639  2.23063\n",
      "CET-TH        NaN       NaN -0.142896    1.01361  3.30913\n",
      "CET-PTD       NaN       NaN       NaN    1.18845  3.63064\n",
      "PTD-EAS       NaN       NaN       NaN        NaN  2.33272\n",
      "PTD-MAS       NaN       NaN       NaN        NaN      NaN\n",
      "\n",
      "             CET    CET-TH   CET-PTD   PTD-EAS     PTD-MAS\n",
      "PF       0.49268  0.792487  0.685887    0.5395   0.0329867\n",
      "CET          NaN    0.2751  0.212407  0.922153     0.05266\n",
      "CET-TH       NaN       NaN  0.886067  0.314927  0.00694667\n",
      "CET-PTD      NaN       NaN       NaN  0.239333  0.00470667\n",
      "PTD-EAS      NaN       NaN       NaN       NaN   0.0422867\n",
      "PTD-MAS      NaN       NaN       NaN       NaN         NaN\n"
     ]
    }
   ],
   "source": [
    "if df_t.empty == False:\n",
    "    print df_t\n",
    "    print\n",
    "    print df_p"
   ]
  },
  {
   "cell_type": "markdown",
   "metadata": {},
   "source": [
    "##### parametric F-Test in R"
   ]
  },
  {
   "cell_type": "code",
   "execution_count": 28,
   "metadata": {
    "collapsed": false
   },
   "outputs": [
    {
     "data": {
      "text/plain": [
       "Single term deletions\n",
       "\n",
       "Model:\n",
       "v_60 ~ group\n",
       "       Df Sum of Sq   RSS    AIC F value  Pr(>F)  \n",
       "<none>              22240 291.13                  \n",
       "group   5    7459.5 29700 294.15  2.6162 0.03918 *\n",
       "---\n",
       "Signif. codes:  0 ‘***’ 0.001 ‘**’ 0.01 ‘*’ 0.05 ‘.’ 0.1 ‘ ’ 1\n"
      ]
     },
     "metadata": {},
     "output_type": "display_data"
    }
   ],
   "source": [
    "%%R\n",
    "\n",
    "# 1-way anova for timepoint at which indifference point = 50% with ceiling set at 60 seconds\n",
    "anova_60"
   ]
  },
  {
   "cell_type": "code",
   "execution_count": 29,
   "metadata": {
    "collapsed": false
   },
   "outputs": [
    {
     "data": {
      "text/plain": [
       "\n",
       "\tPairwise comparisons using t tests with pooled SD \n",
       "\n",
       "data:  v_60 and group \n",
       "\n",
       "        CET   CET-PTD CET-TH PF    PTD-EAS\n",
       "CET-PTD 1.000 -       -      -     -      \n",
       "CET-TH  1.000 1.000   -      -     -      \n",
       "PF      1.000 1.000   1.000  -     -      \n",
       "PTD-EAS 1.000 1.000   1.000  1.000 -      \n",
       "PTD-MAS 1.000 0.062   0.097  0.311 1.000  \n",
       "\n",
       "P value adjustment method: bonferroni \n"
      ]
     },
     "metadata": {},
     "output_type": "display_data"
    }
   ],
   "source": [
    "%%R\n",
    "\n",
    "pairwise.t.test(v_60, group, p.adj='bonf')"
   ]
  },
  {
   "cell_type": "markdown",
   "metadata": {},
   "source": [
    "## Indifference Point with Ceiling Set at 300\n"
   ]
  },
  {
   "cell_type": "code",
   "execution_count": 30,
   "metadata": {
    "collapsed": false
   },
   "outputs": [
    {
     "data": {
      "image/png": "[encoded data removed]",
      "text/plain": [
       "<matplotlib.figure.Figure at 0x11e8e6c50>"
      ]
     },
     "metadata": {},
     "output_type": "display_data"
    }
   ],
   "source": [
    "f, ax = plt.subplots(figsize = (12,10))\n",
    "\n",
    "graphs.histo(group_dict, 'v50_ceil300', bins=10, normed=True, ax=ax)"
   ]
  },
  {
   "cell_type": "code",
   "execution_count": 31,
   "metadata": {
    "collapsed": false
   },
   "outputs": [
    {
     "data": {
      "image/png": "[encoded data removed]",
      "text/plain": [
       "<matplotlib.figure.Figure at 0x11ebb48d0>"
      ]
     },
     "metadata": {},
     "output_type": "display_data"
    }
   ],
   "source": [
    "f, ax = plt.subplots(figsize = (8,6))\n",
    "graphs.bar(dm.by_group(info, 'group', 'v50_ceil300'), ax=ax)"
   ]
  },
  {
   "cell_type": "markdown",
   "metadata": {},
   "source": [
    "##### Kruskal-Wallis Test"
   ]
  },
  {
   "cell_type": "code",
   "execution_count": 32,
   "metadata": {
    "collapsed": false
   },
   "outputs": [
    {
     "data": {
      "text/plain": [
       "KruskalResult(statistic=15.465749801639785, pvalue=0.0085470529624836703)"
      ]
     },
     "execution_count": 32,
     "metadata": {},
     "output_type": "execute_result"
    }
   ],
   "source": [
    "scipy.stats.mstats.kruskalwallis(*[group[v50c300] for group in group_dict.values()])"
   ]
  },
  {
   "cell_type": "markdown",
   "metadata": {},
   "source": [
    "##### Permutation F-Test"
   ]
  },
  {
   "cell_type": "code",
   "execution_count": 33,
   "metadata": {
    "collapsed": false
   },
   "outputs": [
    {
     "data": {
      "text/plain": [
       "'F(5, 39) = 2.49921180204, p = 0.04555'"
      ]
     },
     "execution_count": 33,
     "metadata": {},
     "output_type": "execute_result"
    }
   ],
   "source": [
    "report, p = perm.permuted_f([group[v50c300] for group in group_dict.values()],\n",
    "                        num_permutes = 100000)\n",
    "\n",
    "if p <= .05:\n",
    "    df_t, df_p = perm.perm_mc_ttests([group[v50c300] for group in group_dict.values()],\n",
    "                                nperms = 10000,\n",
    "                                labels = group_dict.keys())\n",
    "else:\n",
    "    df_t = pd.DataFrame()\n",
    "    \n",
    "report"
   ]
  },
  {
   "cell_type": "code",
   "execution_count": 34,
   "metadata": {
    "collapsed": false
   },
   "outputs": [
    {
     "name": "stdout",
     "output_type": "stream",
     "text": [
      "             CET    CET-TH   CET-PTD   PTD-EAS  PTD-MAS\n",
      "PF       1.95836  0.273806  0.529115   1.32419  2.27679\n",
      "CET          NaN  -2.00759  -1.69516 -0.832382  2.21716\n",
      "CET-TH       NaN       NaN  0.285207   1.19752  2.41262\n",
      "CET-PTD      NaN       NaN       NaN  0.900261  2.11638\n",
      "PTD-EAS      NaN       NaN       NaN       NaN  1.40864\n",
      "PTD-MAS      NaN       NaN       NaN       NaN      NaN\n",
      "\n",
      "               CET     CET-TH   CET-PTD   PTD-EAS    PTD-MAS\n",
      "PF       0.0804733    0.82076  0.646353  0.215367    0.02804\n",
      "CET            NaN  0.0667067  0.129067  0.434627  0.0356533\n",
      "CET-TH         NaN        NaN   0.81088  0.251033  0.0186733\n",
      "CET-PTD        NaN        NaN       NaN  0.385967  0.0487267\n",
      "PTD-EAS        NaN        NaN       NaN       NaN   0.191573\n",
      "PTD-MAS        NaN        NaN       NaN       NaN        NaN\n"
     ]
    }
   ],
   "source": [
    "if df_t.empty == False:\n",
    "    print df_t\n",
    "    print\n",
    "    print df_p"
   ]
  },
  {
   "cell_type": "markdown",
   "metadata": {},
   "source": [
    "##### parametric F-Test in R"
   ]
  },
  {
   "cell_type": "code",
   "execution_count": 35,
   "metadata": {
    "collapsed": false
   },
   "outputs": [
    {
     "data": {
      "text/plain": [
       "Single term deletions\n",
       "\n",
       "Model:\n",
       "v_300 ~ group\n",
       "       Df Sum of Sq    RSS    AIC F value Pr(>F)  \n",
       "<none>              430893 424.51                 \n",
       "group   5    138063 568956 427.02  2.4992 0.0468 *\n",
       "---\n",
       "Signif. codes:  0 ‘***’ 0.001 ‘**’ 0.01 ‘*’ 0.05 ‘.’ 0.1 ‘ ’ 1\n"
      ]
     },
     "metadata": {},
     "output_type": "display_data"
    }
   ],
   "source": [
    "%%R\n",
    "\n",
    "# 1-way anova for timepoint at which indifference point = 50% with a ceiling set at 270\n",
    "anova_300"
   ]
  },
  {
   "cell_type": "code",
   "execution_count": 36,
   "metadata": {
    "collapsed": false
   },
   "outputs": [
    {
     "data": {
      "text/plain": [
       "\n",
       "\tPairwise comparisons using t tests with pooled SD \n",
       "\n",
       "data:  v_300 and group \n",
       "\n",
       "        CET  CET-PTD CET-TH PF   PTD-EAS\n",
       "CET-PTD 1.00 -       -      -    -      \n",
       "CET-TH  0.83 1.00    -      -    -      \n",
       "PF      0.40 1.00    1.00   -    -      \n",
       "PTD-EAS 1.00 1.00    1.00   1.00 -      \n",
       "PTD-MAS 1.00 0.77    0.32   0.15 1.00   \n",
       "\n",
       "P value adjustment method: bonferroni \n"
      ]
     },
     "metadata": {},
     "output_type": "display_data"
    }
   ],
   "source": [
    "%%R\n",
    "\n",
    "pairwise.t.test(v_300, group, p.adj='bonf')"
   ]
  },
  {
   "cell_type": "markdown",
   "metadata": {},
   "source": [
    "## K Comparisons"
   ]
  },
  {
   "cell_type": "code",
   "execution_count": 37,
   "metadata": {
    "collapsed": false
   },
   "outputs": [
    {
     "data": {
      "image/png": "[encoded data removed]",
      "text/plain": [
       "<matplotlib.figure.Figure at 0x11e495490>"
      ]
     },
     "metadata": {},
     "output_type": "display_data"
    }
   ],
   "source": [
    "f, ax = plt.subplots(figsize = (12,10))\n",
    "\n",
    "graphs.histo(group_dict, 'k', bins=10, ax = ax)"
   ]
  },
  {
   "cell_type": "code",
   "execution_count": 38,
   "metadata": {
    "collapsed": false
   },
   "outputs": [
    {
     "data": {
      "image/png": "[encoded data removed]",
      "text/plain": [
       "<matplotlib.figure.Figure at 0x11e42ac10>"
      ]
     },
     "metadata": {},
     "output_type": "display_data"
    }
   ],
   "source": [
    "f, ax = plt.subplots(figsize = (12,10))\n",
    "graphs.bar(dm.by_group(info, 'group', 'k'), ylabel = 'k-value', ax=ax)"
   ]
  },
  {
   "cell_type": "markdown",
   "metadata": {},
   "source": [
    "##### Kruskal-Wallis Test"
   ]
  },
  {
   "cell_type": "code",
   "execution_count": 39,
   "metadata": {
    "collapsed": false
   },
   "outputs": [
    {
     "data": {
      "text/plain": [
       "KruskalResult(statistic=11.345709684840102, pvalue=0.044940437583532)"
      ]
     },
     "execution_count": 39,
     "metadata": {},
     "output_type": "execute_result"
    }
   ],
   "source": [
    "scipy.stats.mstats.kruskalwallis(*[group['k'] for group in group_dict.values()])"
   ]
  },
  {
   "cell_type": "markdown",
   "metadata": {},
   "source": [
    "##### Permutation F-Test"
   ]
  },
  {
   "cell_type": "code",
   "execution_count": 40,
   "metadata": {
    "collapsed": false
   },
   "outputs": [
    {
     "data": {
      "text/plain": [
       "'F(5, 39) = 2.10477947858, p = 0.07624'"
      ]
     },
     "execution_count": 40,
     "metadata": {},
     "output_type": "execute_result"
    }
   ],
   "source": [
    "report, p = perm.permuted_f([group['k'] for group in group_dict.values()],\n",
    "                        num_permutes = 100000)\n",
    "\n",
    "if p <= .05:\n",
    "    df_t, df_p = perm.perm_mc_ttests([cet[k], pf[k], cetptd[k], cetth[k], ptdeas[k], ptdmas[k]],\n",
    "                                nperms = 10000,\n",
    "                                labels = labels)\n",
    "else:\n",
    "    df_t = pd.DataFrame()\n",
    "    \n",
    "report"
   ]
  },
  {
   "cell_type": "code",
   "execution_count": 41,
   "metadata": {
    "collapsed": true
   },
   "outputs": [],
   "source": [
    "if df_t.empty == False:\n",
    "    print df_t\n",
    "    print\n",
    "    print df_p "
   ]
  },
  {
   "cell_type": "markdown",
   "metadata": {},
   "source": [
    "##### parametric F-Test in R"
   ]
  },
  {
   "cell_type": "code",
   "execution_count": 42,
   "metadata": {
    "collapsed": false
   },
   "outputs": [
    {
     "data": {
      "text/plain": [
       "Single term deletions\n",
       "\n",
       "Model:\n",
       "k ~ group\n",
       "       Df Sum of Sq    RSS    AIC F value  Pr(>F)  \n",
       "<none>              13.488 -42.22                  \n",
       "group   5    3.6395 17.127 -41.47  2.1048 0.08537 .\n",
       "---\n",
       "Signif. codes:  0 ‘***’ 0.001 ‘**’ 0.01 ‘*’ 0.05 ‘.’ 0.1 ‘ ’ 1\n"
      ]
     },
     "metadata": {},
     "output_type": "display_data"
    }
   ],
   "source": [
    "%%R\n",
    "\n",
    "# one way anova for mean average slope for each group\n",
    "anova_k"
   ]
  },
  {
   "cell_type": "code",
   "execution_count": null,
   "metadata": {
    "collapsed": true
   },
   "outputs": [],
   "source": []
  }
 ],
 "metadata": {
  "kernelspec": {
   "display_name": "Python 2",
   "language": "python",
   "name": "python2"
  },
  "language_info": {
   "codemirror_mode": {
    "name": "ipython",
    "version": 2
   },
   "file_extension": ".py",
   "mimetype": "text/x-python",
   "name": "python",
   "nbconvert_exporter": "python",
   "pygments_lexer": "ipython2",
   "version": "2.7.11"
  }
 },
 "nbformat": 4,
 "nbformat_minor": 0
}
