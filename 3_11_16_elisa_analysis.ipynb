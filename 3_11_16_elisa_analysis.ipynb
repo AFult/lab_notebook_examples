{
 "cells": [
  {
   "cell_type": "code",
   "execution_count": 1,
   "metadata": {
    "collapsed": false
   },
   "outputs": [],
   "source": [
    "%matplotlib inline\n",
    "\n",
    "import pandas as pd\n",
    "import numpy as np\n",
    "import re\n",
    "import matplotlib.pyplot as plt\n",
    "import os\n",
    "from collections import OrderedDict\n",
    "from scipy.stats import linregress"
   ]
  },
  {
   "cell_type": "code",
   "execution_count": 2,
   "metadata": {
    "collapsed": true
   },
   "outputs": [],
   "source": [
    "f = 'data_examples/3_11_16_elisa.xlsx'\n",
    "s2 = 'Sheet2'\n",
    "s1 = 'Sheet1'"
   ]
  },
  {
   "cell_type": "code",
   "execution_count": 3,
   "metadata": {
    "collapsed": false
   },
   "outputs": [
    {
     "data": {
      "text/html": [
       "<div>\n",
       "<table border=\"1\" class=\"dataframe\">\n",
       "  <thead>\n",
       "    <tr style=\"text-align: right;\">\n",
       "      <th></th>\n",
       "      <th>1</th>\n",
       "      <th>2</th>\n",
       "      <th>3</th>\n",
       "      <th>4</th>\n",
       "      <th>5</th>\n",
       "      <th>6</th>\n",
       "      <th>7</th>\n",
       "      <th>8</th>\n",
       "      <th>9</th>\n",
       "      <th>10</th>\n",
       "      <th>11</th>\n",
       "      <th>12</th>\n",
       "    </tr>\n",
       "    <tr>\n",
       "      <th>&lt;&gt;</th>\n",
       "      <th></th>\n",
       "      <th></th>\n",
       "      <th></th>\n",
       "      <th></th>\n",
       "      <th></th>\n",
       "      <th></th>\n",
       "      <th></th>\n",
       "      <th></th>\n",
       "      <th></th>\n",
       "      <th></th>\n",
       "      <th></th>\n",
       "      <th></th>\n",
       "    </tr>\n",
       "  </thead>\n",
       "  <tbody>\n",
       "    <tr>\n",
       "      <th>A</th>\n",
       "      <td>0.2424</td>\n",
       "      <td>0.2398</td>\n",
       "      <td>0.2157</td>\n",
       "      <td>0.2098</td>\n",
       "      <td>0.3388</td>\n",
       "      <td>0.3497</td>\n",
       "      <td>0.3701</td>\n",
       "      <td>0.3706</td>\n",
       "      <td>0.1023</td>\n",
       "      <td>0.1026</td>\n",
       "      <td>0.1067</td>\n",
       "      <td>0.0990</td>\n",
       "    </tr>\n",
       "    <tr>\n",
       "      <th>B</th>\n",
       "      <td>0.1432</td>\n",
       "      <td>0.1457</td>\n",
       "      <td>0.1284</td>\n",
       "      <td>0.1287</td>\n",
       "      <td>0.2049</td>\n",
       "      <td>0.2136</td>\n",
       "      <td>0.2202</td>\n",
       "      <td>0.2231</td>\n",
       "      <td>0.0904</td>\n",
       "      <td>0.0934</td>\n",
       "      <td>0.0945</td>\n",
       "      <td>0.1520</td>\n",
       "    </tr>\n",
       "    <tr>\n",
       "      <th>C</th>\n",
       "      <td>0.112</td>\n",
       "      <td>0.1063</td>\n",
       "      <td>0.0951</td>\n",
       "      <td>0.0966</td>\n",
       "      <td>0.1334</td>\n",
       "      <td>0.1359</td>\n",
       "      <td>0.1373</td>\n",
       "      <td>0.1482</td>\n",
       "      <td>0.0871</td>\n",
       "      <td>0.0886</td>\n",
       "      <td>0.0914</td>\n",
       "      <td>0.0871</td>\n",
       "    </tr>\n",
       "    <tr>\n",
       "      <th>D</th>\n",
       "      <td>0.085</td>\n",
       "      <td>0.0849</td>\n",
       "      <td>0.0820</td>\n",
       "      <td>0.082</td>\n",
       "      <td>0.0989</td>\n",
       "      <td>0.1030</td>\n",
       "      <td>0.1120</td>\n",
       "      <td>0.1175</td>\n",
       "      <td>0.0878</td>\n",
       "      <td>0.0899</td>\n",
       "      <td>0.0928</td>\n",
       "      <td>0.0909</td>\n",
       "    </tr>\n",
       "    <tr>\n",
       "      <th>E</th>\n",
       "      <td>0.0772</td>\n",
       "      <td>0.0783</td>\n",
       "      <td>0.0755</td>\n",
       "      <td>0.0773</td>\n",
       "      <td>0.0837</td>\n",
       "      <td>0.0881</td>\n",
       "      <td>0.0964</td>\n",
       "      <td>0.1008</td>\n",
       "      <td>0.0894</td>\n",
       "      <td>0.0929</td>\n",
       "      <td>0.0939</td>\n",
       "      <td>0.0912</td>\n",
       "    </tr>\n",
       "    <tr>\n",
       "      <th>F</th>\n",
       "      <td>0.0709</td>\n",
       "      <td>0.0732</td>\n",
       "      <td>0.0716</td>\n",
       "      <td>0.0719</td>\n",
       "      <td>0.0761</td>\n",
       "      <td>0.0827</td>\n",
       "      <td>0.0838</td>\n",
       "      <td>0.0892</td>\n",
       "      <td>0.0898</td>\n",
       "      <td>0.0901</td>\n",
       "      <td>0.0914</td>\n",
       "      <td>0.0900</td>\n",
       "    </tr>\n",
       "    <tr>\n",
       "      <th>G</th>\n",
       "      <td>0.0747</td>\n",
       "      <td>0.0689</td>\n",
       "      <td>0.0700</td>\n",
       "      <td>0.0689</td>\n",
       "      <td>0.0727</td>\n",
       "      <td>0.0760</td>\n",
       "      <td>0.0828</td>\n",
       "      <td>0.0884</td>\n",
       "      <td>0.0887</td>\n",
       "      <td>0.0931</td>\n",
       "      <td>0.0963</td>\n",
       "      <td>0.0954</td>\n",
       "    </tr>\n",
       "    <tr>\n",
       "      <th>H</th>\n",
       "      <td>0.0741</td>\n",
       "      <td>0.0703</td>\n",
       "      <td>0.0714</td>\n",
       "      <td>0.0966</td>\n",
       "      <td>0.0708</td>\n",
       "      <td>0.0752</td>\n",
       "      <td>0.0796</td>\n",
       "      <td>0.0852</td>\n",
       "      <td>0.0887</td>\n",
       "      <td>0.0923</td>\n",
       "      <td>0.0948</td>\n",
       "      <td>0.0985</td>\n",
       "    </tr>\n",
       "  </tbody>\n",
       "</table>\n",
       "</div>"
      ],
      "text/plain": [
       "        1       2       3       4       5       6       7       8       9   \\\n",
       "<>                                                                           \n",
       "A   0.2424  0.2398  0.2157  0.2098  0.3388  0.3497  0.3701  0.3706  0.1023   \n",
       "B   0.1432  0.1457  0.1284  0.1287  0.2049  0.2136  0.2202  0.2231  0.0904   \n",
       "C    0.112  0.1063  0.0951  0.0966  0.1334  0.1359  0.1373  0.1482  0.0871   \n",
       "D    0.085  0.0849  0.0820   0.082  0.0989  0.1030  0.1120  0.1175  0.0878   \n",
       "E   0.0772  0.0783  0.0755  0.0773  0.0837  0.0881  0.0964  0.1008  0.0894   \n",
       "F   0.0709  0.0732  0.0716  0.0719  0.0761  0.0827  0.0838  0.0892  0.0898   \n",
       "G   0.0747  0.0689  0.0700  0.0689  0.0727  0.0760  0.0828  0.0884  0.0887   \n",
       "H   0.0741  0.0703  0.0714  0.0966  0.0708  0.0752  0.0796  0.0852  0.0887   \n",
       "\n",
       "        10      11      12  \n",
       "<>                          \n",
       "A   0.1026  0.1067  0.0990  \n",
       "B   0.0934  0.0945  0.1520  \n",
       "C   0.0886  0.0914  0.0871  \n",
       "D   0.0899  0.0928  0.0909  \n",
       "E   0.0929  0.0939  0.0912  \n",
       "F   0.0901  0.0914  0.0900  \n",
       "G   0.0931  0.0963  0.0954  \n",
       "H   0.0923  0.0948  0.0985  "
      ]
     },
     "execution_count": 3,
     "metadata": {},
     "output_type": "execute_result"
    }
   ],
   "source": [
    "plate = pd.read_excel(f,s2, header=23, index_col=0)#, skip_footer=60)#, index_col=0)\n",
    "plate = plate.ix['A':'H']\n",
    "labels = pd.read_excel(f,s1, index_col = 0)\n",
    "labels = labels.loc['A':'D', 9:12]\n",
    "stds = np.array([500, 250, 125, 62.5, 31.25, 15.625, 7.8125, 0])\n",
    "\n",
    "plate#.loc['A':'D', 9:12]"
   ]
  },
  {
   "cell_type": "code",
   "execution_count": 122,
   "metadata": {
    "collapsed": false
   },
   "outputs": [
    {
     "data": {
      "text/html": [
       "<div>\n",
       "<table border=\"1\" class=\"dataframe\">\n",
       "  <thead>\n",
       "    <tr style=\"text-align: right;\">\n",
       "      <th></th>\n",
       "      <th>2 D1</th>\n",
       "      <th>2 D2</th>\n",
       "      <th>436 D1</th>\n",
       "      <th>436 D2</th>\n",
       "    </tr>\n",
       "  </thead>\n",
       "  <tbody>\n",
       "    <tr>\n",
       "      <th>J</th>\n",
       "      <td>0.1520</td>\n",
       "      <td>0.0904</td>\n",
       "      <td>0.0871</td>\n",
       "      <td>0.0871</td>\n",
       "    </tr>\n",
       "    <tr>\n",
       "      <th>B</th>\n",
       "      <td>0.1026</td>\n",
       "      <td>0.0928</td>\n",
       "      <td>0.0934</td>\n",
       "      <td>0.1067</td>\n",
       "    </tr>\n",
       "    <tr>\n",
       "      <th>M</th>\n",
       "      <td>0.0886</td>\n",
       "      <td>0.0945</td>\n",
       "      <td>0.0914</td>\n",
       "      <td>0.0899</td>\n",
       "    </tr>\n",
       "    <tr>\n",
       "      <th>A</th>\n",
       "      <td>0.0909</td>\n",
       "      <td>0.0990</td>\n",
       "      <td>0.0878</td>\n",
       "      <td>0.1023</td>\n",
       "    </tr>\n",
       "  </tbody>\n",
       "</table>\n",
       "</div>"
      ],
      "text/plain": [
       "     2 D1    2 D2  436 D1  436 D2\n",
       "J  0.1520  0.0904  0.0871  0.0871\n",
       "B  0.1026  0.0928  0.0934  0.1067\n",
       "M  0.0886  0.0945  0.0914  0.0899\n",
       "A  0.0909  0.0990  0.0878  0.1023"
      ]
     },
     "execution_count": 122,
     "metadata": {},
     "output_type": "execute_result"
    }
   ],
   "source": [
    "data_dict = {21:{'J':None,'B':None,'M':None,'A':None},\n",
    "             22:{'J':None,'B':None,'M':None,'A':None},\n",
    "             4361:{'J':None,'B':None,'M':None,'A':None},\n",
    "             4362:{'J':None,'B':None,'M':None,'A':None}}\n",
    "\n",
    "for col in labels.columns:\n",
    "    for index in labels.index:\n",
    "        sub = re.match(r'\\d+', labels[col][index])\n",
    "        lab = labels[col][index][-1]\n",
    "        sub = int(sub.group())\n",
    "        data_dict[sub][lab] = plate[col][index]\n",
    "        \n",
    "samples = pd.DataFrame(data_dict)\n",
    "samples = samples.reindex(['J', 'B', 'M','A'])\n",
    "samples.columns = ['2 D1', '2 D2', '436 D1', '436 D2']\n",
    "samples"
   ]
  },
  {
   "cell_type": "code",
   "execution_count": 131,
   "metadata": {
    "collapsed": false
   },
   "outputs": [],
   "source": [
    "# removed outliers\n",
    "\n",
    "plate[4]['H'] = np.nan"
   ]
  },
  {
   "cell_type": "code",
   "execution_count": 132,
   "metadata": {
    "collapsed": false
   },
   "outputs": [
    {
     "data": {
      "text/html": [
       "<div>\n",
       "<table border=\"1\" class=\"dataframe\">\n",
       "  <thead>\n",
       "    <tr style=\"text-align: right;\">\n",
       "      <th></th>\n",
       "      <th>1</th>\n",
       "      <th>2</th>\n",
       "      <th>3</th>\n",
       "      <th>4</th>\n",
       "      <th>5</th>\n",
       "      <th>6</th>\n",
       "      <th>7</th>\n",
       "      <th>8</th>\n",
       "      <th>9</th>\n",
       "      <th>10</th>\n",
       "      <th>11</th>\n",
       "      <th>12</th>\n",
       "    </tr>\n",
       "    <tr>\n",
       "      <th>&lt;&gt;</th>\n",
       "      <th></th>\n",
       "      <th></th>\n",
       "      <th></th>\n",
       "      <th></th>\n",
       "      <th></th>\n",
       "      <th></th>\n",
       "      <th></th>\n",
       "      <th></th>\n",
       "      <th></th>\n",
       "      <th></th>\n",
       "      <th></th>\n",
       "      <th></th>\n",
       "    </tr>\n",
       "  </thead>\n",
       "  <tbody>\n",
       "    <tr>\n",
       "      <th>A</th>\n",
       "      <td>0.2424</td>\n",
       "      <td>0.2398</td>\n",
       "      <td>0.2157</td>\n",
       "      <td>0.2098</td>\n",
       "      <td>0.3388</td>\n",
       "      <td>0.3497</td>\n",
       "      <td>0.3701</td>\n",
       "      <td>0.3706</td>\n",
       "      <td>0.1023</td>\n",
       "      <td>0.1026</td>\n",
       "      <td>0.1067</td>\n",
       "      <td>0.0990</td>\n",
       "    </tr>\n",
       "    <tr>\n",
       "      <th>B</th>\n",
       "      <td>0.1432</td>\n",
       "      <td>0.1457</td>\n",
       "      <td>0.1284</td>\n",
       "      <td>0.1287</td>\n",
       "      <td>0.2049</td>\n",
       "      <td>0.2136</td>\n",
       "      <td>0.2202</td>\n",
       "      <td>0.2231</td>\n",
       "      <td>0.0904</td>\n",
       "      <td>0.0934</td>\n",
       "      <td>0.0945</td>\n",
       "      <td>0.1520</td>\n",
       "    </tr>\n",
       "    <tr>\n",
       "      <th>C</th>\n",
       "      <td>0.112</td>\n",
       "      <td>0.1063</td>\n",
       "      <td>0.0951</td>\n",
       "      <td>0.0966</td>\n",
       "      <td>0.1334</td>\n",
       "      <td>0.1359</td>\n",
       "      <td>0.1373</td>\n",
       "      <td>0.1482</td>\n",
       "      <td>0.0871</td>\n",
       "      <td>0.0886</td>\n",
       "      <td>0.0914</td>\n",
       "      <td>0.0871</td>\n",
       "    </tr>\n",
       "    <tr>\n",
       "      <th>D</th>\n",
       "      <td>0.085</td>\n",
       "      <td>0.0849</td>\n",
       "      <td>0.0820</td>\n",
       "      <td>0.082</td>\n",
       "      <td>0.0989</td>\n",
       "      <td>0.1030</td>\n",
       "      <td>0.1120</td>\n",
       "      <td>0.1175</td>\n",
       "      <td>0.0878</td>\n",
       "      <td>0.0899</td>\n",
       "      <td>0.0928</td>\n",
       "      <td>0.0909</td>\n",
       "    </tr>\n",
       "    <tr>\n",
       "      <th>E</th>\n",
       "      <td>0.0772</td>\n",
       "      <td>0.0783</td>\n",
       "      <td>0.0755</td>\n",
       "      <td>0.0773</td>\n",
       "      <td>0.0837</td>\n",
       "      <td>0.0881</td>\n",
       "      <td>0.0964</td>\n",
       "      <td>0.1008</td>\n",
       "      <td>0.0894</td>\n",
       "      <td>0.0929</td>\n",
       "      <td>0.0939</td>\n",
       "      <td>0.0912</td>\n",
       "    </tr>\n",
       "    <tr>\n",
       "      <th>F</th>\n",
       "      <td>0.0709</td>\n",
       "      <td>0.0732</td>\n",
       "      <td>0.0716</td>\n",
       "      <td>0.0719</td>\n",
       "      <td>0.0761</td>\n",
       "      <td>0.0827</td>\n",
       "      <td>0.0838</td>\n",
       "      <td>0.0892</td>\n",
       "      <td>0.0898</td>\n",
       "      <td>0.0901</td>\n",
       "      <td>0.0914</td>\n",
       "      <td>0.0900</td>\n",
       "    </tr>\n",
       "    <tr>\n",
       "      <th>G</th>\n",
       "      <td>0.0747</td>\n",
       "      <td>0.0689</td>\n",
       "      <td>0.0700</td>\n",
       "      <td>0.0689</td>\n",
       "      <td>0.0727</td>\n",
       "      <td>0.0760</td>\n",
       "      <td>0.0828</td>\n",
       "      <td>0.0884</td>\n",
       "      <td>0.0887</td>\n",
       "      <td>0.0931</td>\n",
       "      <td>0.0963</td>\n",
       "      <td>0.0954</td>\n",
       "    </tr>\n",
       "    <tr>\n",
       "      <th>H</th>\n",
       "      <td>0.0741</td>\n",
       "      <td>0.0703</td>\n",
       "      <td>0.0714</td>\n",
       "      <td>NaN</td>\n",
       "      <td>0.0708</td>\n",
       "      <td>0.0752</td>\n",
       "      <td>0.0796</td>\n",
       "      <td>0.0852</td>\n",
       "      <td>0.0887</td>\n",
       "      <td>0.0923</td>\n",
       "      <td>0.0948</td>\n",
       "      <td>0.0985</td>\n",
       "    </tr>\n",
       "  </tbody>\n",
       "</table>\n",
       "</div>"
      ],
      "text/plain": [
       "        1       2       3       4       5       6       7       8       9   \\\n",
       "<>                                                                           \n",
       "A   0.2424  0.2398  0.2157  0.2098  0.3388  0.3497  0.3701  0.3706  0.1023   \n",
       "B   0.1432  0.1457  0.1284  0.1287  0.2049  0.2136  0.2202  0.2231  0.0904   \n",
       "C    0.112  0.1063  0.0951  0.0966  0.1334  0.1359  0.1373  0.1482  0.0871   \n",
       "D    0.085  0.0849  0.0820   0.082  0.0989  0.1030  0.1120  0.1175  0.0878   \n",
       "E   0.0772  0.0783  0.0755  0.0773  0.0837  0.0881  0.0964  0.1008  0.0894   \n",
       "F   0.0709  0.0732  0.0716  0.0719  0.0761  0.0827  0.0838  0.0892  0.0898   \n",
       "G   0.0747  0.0689  0.0700  0.0689  0.0727  0.0760  0.0828  0.0884  0.0887   \n",
       "H   0.0741  0.0703  0.0714     NaN  0.0708  0.0752  0.0796  0.0852  0.0887   \n",
       "\n",
       "        10      11      12  \n",
       "<>                          \n",
       "A   0.1026  0.1067  0.0990  \n",
       "B   0.0934  0.0945  0.1520  \n",
       "C   0.0886  0.0914  0.0871  \n",
       "D   0.0899  0.0928  0.0909  \n",
       "E   0.0929  0.0939  0.0912  \n",
       "F   0.0901  0.0914  0.0900  \n",
       "G   0.0931  0.0963  0.0954  \n",
       "H   0.0923  0.0948  0.0985  "
      ]
     },
     "execution_count": 132,
     "metadata": {},
     "output_type": "execute_result"
    }
   ],
   "source": [
    "# plate with removed outliers\n",
    "\n",
    "plate"
   ]
  },
  {
   "cell_type": "code",
   "execution_count": 133,
   "metadata": {
    "collapsed": true
   },
   "outputs": [],
   "source": [
    "# isolated each curve and found mean OD\n",
    "\n",
    "acsf_BSA = plate[[1,2]].mean(axis=1)\n",
    "acsf = plate[[3,4]].mean(axis=1)\n",
    "BS = plate[[5,6]].mean(axis=1)\n",
    "BS_BSA = plate[[7,8]].mean(axis=1)"
   ]
  },
  {
   "cell_type": "code",
   "execution_count": 134,
   "metadata": {
    "collapsed": false
   },
   "outputs": [],
   "source": [
    "# subtract average blank of each curve\n",
    "\n",
    "acsf_BSA_bs = acsf_BSA.sub(acsf_BSA['H'])\n",
    "acsf_bs = acsf.sub(acsf['H'])\n",
    "BS_bs = BS.sub(BS['H'])\n",
    "BS_BSA_bs = BS_BSA.sub(BS_BSA['H'])"
   ]
  },
  {
   "cell_type": "code",
   "execution_count": 135,
   "metadata": {
    "collapsed": false
   },
   "outputs": [
    {
     "data": {
      "text/html": [
       "<div>\n",
       "<table border=\"1\" class=\"dataframe\">\n",
       "  <thead>\n",
       "    <tr style=\"text-align: right;\">\n",
       "      <th></th>\n",
       "      <th>acsf_BSA</th>\n",
       "      <th>acsf</th>\n",
       "      <th>BS</th>\n",
       "      <th>BS_BSA</th>\n",
       "    </tr>\n",
       "    <tr>\n",
       "      <th>&lt;&gt;</th>\n",
       "      <th></th>\n",
       "      <th></th>\n",
       "      <th></th>\n",
       "      <th></th>\n",
       "    </tr>\n",
       "  </thead>\n",
       "  <tbody>\n",
       "    <tr>\n",
       "      <th>A</th>\n",
       "      <td>0.16890</td>\n",
       "      <td>0.14135</td>\n",
       "      <td>0.27125</td>\n",
       "      <td>0.28795</td>\n",
       "    </tr>\n",
       "    <tr>\n",
       "      <th>B</th>\n",
       "      <td>0.07225</td>\n",
       "      <td>0.05715</td>\n",
       "      <td>0.13625</td>\n",
       "      <td>0.13925</td>\n",
       "    </tr>\n",
       "    <tr>\n",
       "      <th>C</th>\n",
       "      <td>0.03695</td>\n",
       "      <td>0.02445</td>\n",
       "      <td>0.06165</td>\n",
       "      <td>0.06035</td>\n",
       "    </tr>\n",
       "    <tr>\n",
       "      <th>D</th>\n",
       "      <td>0.01275</td>\n",
       "      <td>0.01060</td>\n",
       "      <td>0.02795</td>\n",
       "      <td>0.03235</td>\n",
       "    </tr>\n",
       "    <tr>\n",
       "      <th>E</th>\n",
       "      <td>0.00555</td>\n",
       "      <td>0.00500</td>\n",
       "      <td>0.01290</td>\n",
       "      <td>0.01620</td>\n",
       "    </tr>\n",
       "    <tr>\n",
       "      <th>F</th>\n",
       "      <td>-0.00015</td>\n",
       "      <td>0.00035</td>\n",
       "      <td>0.00640</td>\n",
       "      <td>0.00410</td>\n",
       "    </tr>\n",
       "    <tr>\n",
       "      <th>G</th>\n",
       "      <td>-0.00040</td>\n",
       "      <td>-0.00195</td>\n",
       "      <td>0.00135</td>\n",
       "      <td>0.00320</td>\n",
       "    </tr>\n",
       "    <tr>\n",
       "      <th>H</th>\n",
       "      <td>0.00000</td>\n",
       "      <td>0.00000</td>\n",
       "      <td>0.00000</td>\n",
       "      <td>0.00000</td>\n",
       "    </tr>\n",
       "  </tbody>\n",
       "</table>\n",
       "</div>"
      ],
      "text/plain": [
       "    acsf_BSA     acsf       BS   BS_BSA\n",
       "<>                                     \n",
       "A    0.16890  0.14135  0.27125  0.28795\n",
       "B    0.07225  0.05715  0.13625  0.13925\n",
       "C    0.03695  0.02445  0.06165  0.06035\n",
       "D    0.01275  0.01060  0.02795  0.03235\n",
       "E    0.00555  0.00500  0.01290  0.01620\n",
       "F   -0.00015  0.00035  0.00640  0.00410\n",
       "G   -0.00040 -0.00195  0.00135  0.00320\n",
       "H    0.00000  0.00000  0.00000  0.00000"
      ]
     },
     "execution_count": 135,
     "metadata": {},
     "output_type": "execute_result"
    }
   ],
   "source": [
    "# combine each blank subtracted curve into one table\n",
    "\n",
    "bs_stds = pd.concat([acsf_BSA_bs, acsf_bs, BS_bs, BS_BSA_bs], axis=1)\n",
    "bs_stds.columns = ['acsf_BSA', 'acsf', 'BS', 'BS_BSA']\n",
    "\n",
    "bs_stds"
   ]
  },
  {
   "cell_type": "code",
   "execution_count": 136,
   "metadata": {
    "collapsed": true
   },
   "outputs": [],
   "source": [
    "# perform linear regression on each curve to determine line of best fit and R^2 value\n",
    "\n",
    "linreg_df = pd.DataFrame([linregress(stds, acsf_BSA_bs),\n",
    "                          linregress(stds, acsf_bs),\n",
    "                          linregress(stds, BS_bs),\n",
    "                          linregress(stds, BS_BSA_bs)],\n",
    "                         columns = ['m','b','r','p','sem'],\n",
    "                         index = ['acsf_BSA', 'acsf', 'BS', 'BS_BSA'])\n",
    "\n",
    "linreg_df['r**2'] = linreg_df['r'] ** 2\n",
    "\n",
    "\n",
    "# make variables for each lines m and b values\n",
    "mb = linreg_df[['m','b']]\n",
    "\n",
    "mAB, bAB = mb.ix['acsf_BSA']\n",
    "mA, bA = mb.ix['acsf']\n",
    "mB, bB = mb.ix['BS']\n",
    "mBB, bBB = mb.ix['BS_BSA']"
   ]
  },
  {
   "cell_type": "code",
   "execution_count": 137,
   "metadata": {
    "collapsed": false
   },
   "outputs": [
    {
     "data": {
      "text/html": [
       "<div>\n",
       "<table border=\"1\" class=\"dataframe\">\n",
       "  <thead>\n",
       "    <tr style=\"text-align: right;\">\n",
       "      <th></th>\n",
       "      <th>m</th>\n",
       "      <th>b</th>\n",
       "      <th>r</th>\n",
       "      <th>p</th>\n",
       "      <th>sem</th>\n",
       "      <th>r**2</th>\n",
       "    </tr>\n",
       "  </thead>\n",
       "  <tbody>\n",
       "    <tr>\n",
       "      <th>acsf_BSA</th>\n",
       "      <td>0.000340</td>\n",
       "      <td>-0.005137</td>\n",
       "      <td>0.997606</td>\n",
       "      <td>3.423038e-08</td>\n",
       "      <td>0.000010</td>\n",
       "      <td>0.995218</td>\n",
       "    </tr>\n",
       "    <tr>\n",
       "      <th>acsf</th>\n",
       "      <td>0.000283</td>\n",
       "      <td>-0.005443</td>\n",
       "      <td>0.995185</td>\n",
       "      <td>2.780194e-07</td>\n",
       "      <td>0.000011</td>\n",
       "      <td>0.990394</td>\n",
       "    </tr>\n",
       "    <tr>\n",
       "      <th>BS</th>\n",
       "      <td>0.000549</td>\n",
       "      <td>-0.003376</td>\n",
       "      <td>0.999674</td>\n",
       "      <td>8.650024e-11</td>\n",
       "      <td>0.000006</td>\n",
       "      <td>0.999348</td>\n",
       "    </tr>\n",
       "    <tr>\n",
       "      <th>BS_BSA</th>\n",
       "      <td>0.000578</td>\n",
       "      <td>-0.003775</td>\n",
       "      <td>0.999283</td>\n",
       "      <td>9.217363e-10</td>\n",
       "      <td>0.000009</td>\n",
       "      <td>0.998566</td>\n",
       "    </tr>\n",
       "  </tbody>\n",
       "</table>\n",
       "</div>"
      ],
      "text/plain": [
       "                 m         b         r             p       sem      r**2\n",
       "acsf_BSA  0.000340 -0.005137  0.997606  3.423038e-08  0.000010  0.995218\n",
       "acsf      0.000283 -0.005443  0.995185  2.780194e-07  0.000011  0.990394\n",
       "BS        0.000549 -0.003376  0.999674  8.650024e-11  0.000006  0.999348\n",
       "BS_BSA    0.000578 -0.003775  0.999283  9.217363e-10  0.000009  0.998566"
      ]
     },
     "execution_count": 137,
     "metadata": {},
     "output_type": "execute_result"
    }
   ],
   "source": [
    "# table with linear regression results\n",
    "linreg_df"
   ]
  },
  {
   "cell_type": "code",
   "execution_count": 138,
   "metadata": {
    "collapsed": false
   },
   "outputs": [
    {
     "data": {
      "text/html": [
       "<div>\n",
       "<table border=\"1\" class=\"dataframe\">\n",
       "  <thead>\n",
       "    <tr style=\"text-align: right;\">\n",
       "      <th></th>\n",
       "      <th>2 D1</th>\n",
       "      <th>2 D2</th>\n",
       "      <th>436 D1</th>\n",
       "      <th>436 D2</th>\n",
       "    </tr>\n",
       "  </thead>\n",
       "  <tbody>\n",
       "    <tr>\n",
       "      <th>J</th>\n",
       "      <td>0.1520</td>\n",
       "      <td>0.0904</td>\n",
       "      <td>0.0871</td>\n",
       "      <td>0.0871</td>\n",
       "    </tr>\n",
       "    <tr>\n",
       "      <th>B</th>\n",
       "      <td>0.1026</td>\n",
       "      <td>0.0928</td>\n",
       "      <td>0.0934</td>\n",
       "      <td>0.1067</td>\n",
       "    </tr>\n",
       "    <tr>\n",
       "      <th>M</th>\n",
       "      <td>0.0886</td>\n",
       "      <td>0.0945</td>\n",
       "      <td>0.0914</td>\n",
       "      <td>0.0899</td>\n",
       "    </tr>\n",
       "    <tr>\n",
       "      <th>A</th>\n",
       "      <td>0.0909</td>\n",
       "      <td>0.0990</td>\n",
       "      <td>0.0878</td>\n",
       "      <td>0.1023</td>\n",
       "    </tr>\n",
       "  </tbody>\n",
       "</table>\n",
       "</div>"
      ],
      "text/plain": [
       "     2 D1    2 D2  436 D1  436 D2\n",
       "J  0.1520  0.0904  0.0871  0.0871\n",
       "B  0.1026  0.0928  0.0934  0.1067\n",
       "M  0.0886  0.0945  0.0914  0.0899\n",
       "A  0.0909  0.0990  0.0878  0.1023"
      ]
     },
     "execution_count": 138,
     "metadata": {},
     "output_type": "execute_result"
    }
   ],
   "source": [
    "# isolate which samples have and dont have BSA\n",
    "sam_no = samples[['2 D1', '2 D2']]\n",
    "sam_bsa = samples[['436 D1', '436 D2']]"
   ]
  },
  {
   "cell_type": "code",
   "execution_count": 141,
   "metadata": {
    "collapsed": false
   },
   "outputs": [
    {
     "data": {
      "text/plain": [
       "0.10134999919682741"
      ]
     },
     "execution_count": 141,
     "metadata": {},
     "output_type": "execute_result"
    }
   ],
   "source": [
    "#display total mean of samples w/o BSA\n",
    "sam_no.mean(axis=1).mean()"
   ]
  },
  {
   "cell_type": "code",
   "execution_count": 142,
   "metadata": {
    "collapsed": false
   },
   "outputs": [
    {
     "data": {
      "text/plain": [
       "0.0932125011458993"
      ]
     },
     "execution_count": 142,
     "metadata": {},
     "output_type": "execute_result"
    }
   ],
   "source": [
    "#display total mean of samples with BSA\n",
    "sam_bsa.mean(axis=1).mean()"
   ]
  },
  {
   "cell_type": "markdown",
   "metadata": {},
   "source": [
    "##### .07 units difference in ocular density between no BSA and BSA samples"
   ]
  },
  {
   "cell_type": "code",
   "execution_count": 147,
   "metadata": {
    "collapsed": true
   },
   "outputs": [],
   "source": [
    "#subtract each curves blank values from sample values making, a table for each\n",
    "sam_A_bs = samples.sub(acsf['H'])\n",
    "sam_B_bs = samples.sub(BS['H'])\n",
    "sam_AB_bs = samples.sub(BS['H'])\n",
    "sam_BB_bs = samples.sub(BS_BSA['H'])"
   ]
  },
  {
   "cell_type": "code",
   "execution_count": 148,
   "metadata": {
    "collapsed": true
   },
   "outputs": [],
   "source": [
    "#find BDNF values for each sample based on each curve\n",
    "all_A = sam_A_bs.sub(bA).div(mA)\n",
    "all_B = sam_B_bs.sub(bB).div(mB)\n",
    "all_AB = sam_AB_bs.sub(bAB).div(mAB)\n",
    "all_BB = sam_BB_bs.sub(bBB).div(mBB)\n",
    "\n",
    "# find BDNF values for each diluent based on if they have BSA or not\n",
    "same_dil_acsf = pd.concat([all_A[['2 D1', '2 D2']], all_AB[['436 D1', '436 D2']]], axis=1)\n",
    "same_dil_BSA = pd.concat([all_B[['2 D1', '2 D2']], all_BB[['436 D1', '436 D2']]], axis=1)"
   ]
  },
  {
   "cell_type": "code",
   "execution_count": 157,
   "metadata": {
    "collapsed": false
   },
   "outputs": [],
   "source": [
    "# function to graph the different sample tables\n",
    "def graph_bdnf(df):\n",
    "    fig, ax = plt.subplots(figsize=(8,6))\n",
    "    \n",
    "    x=[0,1,2,3]\n",
    "    labels=['J','B','M','A']\n",
    "\n",
    "    for bdnf in df.columns:\n",
    "        ax.plot(x, df[bdnf])\n",
    "    \n",
    "    ax.legend()\n",
    "    ax.set_xlim([-.1, 3.1])\n",
    "    ax.xaxis.set_ticks([0,1,2,3])\n",
    "    ax.set_xticklabels(labels)\n",
    "    ax.yaxis.set_ticks_position('left')\n",
    "    ax.xaxis.set_ticks_position('bottom')\n",
    "    ax.set_ylabel('BDNF (pg/ml)')\n",
    "    ax.set_xlabel('microdialysis timepoint')"
   ]
  },
  {
   "cell_type": "markdown",
   "metadata": {
    "collapsed": true
   },
   "source": [
    "# Standards"
   ]
  },
  {
   "cell_type": "code",
   "execution_count": 158,
   "metadata": {
    "collapsed": false
   },
   "outputs": [
    {
     "data": {
      "image/png": "[encoded data removed]",
      "text/plain": [
       "<matplotlib.figure.Figure at 0x118860210>"
      ]
     },
     "metadata": {},
     "output_type": "display_data"
    }
   ],
   "source": [
    "#graph all standard values and their regression lines\n",
    "fig, ax = plt.subplots(figsize= (8, 6))\n",
    "\n",
    "c = ['b', 'g', 'r', 'c']\n",
    "rr = []\n",
    "\n",
    "for column, reg, color in zip(bs_stds.columns, linreg_df.index, c):\n",
    "    x = bs_stds[column].sub(linreg_df.ix[reg]['b']).div(linreg_df.ix[reg]['m'])\n",
    "    rr.append((column, linreg_df.ix[reg]['r**2']))\n",
    "    plt.plot(x, bs_stds[column], c = color)\n",
    "\n",
    "ax.plot(stds, bs_stds, 'o')\n",
    "ax.legend(labels=['%s: (R^2 = %s)' % (x[0],x[1]) for x in rr], loc = 4)\n",
    "ax.set_xlim([-5, 505])\n",
    "ax.set_title('Standard Curves by Diluent\\n', fontsize=15)\n",
    "ax.set_ylabel('Ocular Density')\n",
    "ax.set_xlabel('BDNF (pg/ml)')\n",
    "ax.yaxis.set_ticks_position('left')\n",
    "ax.xaxis.set_ticks_position('bottom')"
   ]
  },
  {
   "cell_type": "markdown",
   "metadata": {},
   "source": [
    "# Samples"
   ]
  },
  {
   "cell_type": "markdown",
   "metadata": {},
   "source": [
    "### Plotted on aCSF Curve"
   ]
  },
  {
   "cell_type": "code",
   "execution_count": 159,
   "metadata": {
    "collapsed": false
   },
   "outputs": [
    {
     "data": {
      "image/png": "[encoded data removed]",
      "text/plain": [
       "<matplotlib.figure.Figure at 0x11bdafd50>"
      ]
     },
     "metadata": {},
     "output_type": "display_data"
    }
   ],
   "source": [
    "graph_bdnf(all_A)"
   ]
  },
  {
   "cell_type": "code",
   "execution_count": 160,
   "metadata": {
    "collapsed": false
   },
   "outputs": [
    {
     "data": {
      "text/html": [
       "<div>\n",
       "<table border=\"1\" class=\"dataframe\">\n",
       "  <thead>\n",
       "    <tr style=\"text-align: right;\">\n",
       "      <th></th>\n",
       "      <th>2 D1</th>\n",
       "      <th>2 D2</th>\n",
       "      <th>436 D1</th>\n",
       "      <th>436 D2</th>\n",
       "    </tr>\n",
       "  </thead>\n",
       "  <tbody>\n",
       "    <tr>\n",
       "      <th>J</th>\n",
       "      <td>304.359411</td>\n",
       "      <td>86.461738</td>\n",
       "      <td>74.788633</td>\n",
       "      <td>74.788633</td>\n",
       "    </tr>\n",
       "    <tr>\n",
       "      <th>B</th>\n",
       "      <td>129.616794</td>\n",
       "      <td>94.951244</td>\n",
       "      <td>97.073634</td>\n",
       "      <td>144.119734</td>\n",
       "    </tr>\n",
       "    <tr>\n",
       "      <th>M</th>\n",
       "      <td>80.094595</td>\n",
       "      <td>100.964651</td>\n",
       "      <td>89.999019</td>\n",
       "      <td>84.693084</td>\n",
       "    </tr>\n",
       "    <tr>\n",
       "      <th>A</th>\n",
       "      <td>88.230365</td>\n",
       "      <td>116.882509</td>\n",
       "      <td>77.264759</td>\n",
       "      <td>128.555613</td>\n",
       "    </tr>\n",
       "  </tbody>\n",
       "</table>\n",
       "</div>"
      ],
      "text/plain": [
       "         2 D1        2 D2     436 D1      436 D2\n",
       "J  304.359411   86.461738  74.788633   74.788633\n",
       "B  129.616794   94.951244  97.073634  144.119734\n",
       "M   80.094595  100.964651  89.999019   84.693084\n",
       "A   88.230365  116.882509  77.264759  128.555613"
      ]
     },
     "execution_count": 160,
     "metadata": {},
     "output_type": "execute_result"
    }
   ],
   "source": [
    "all_A"
   ]
  },
  {
   "cell_type": "markdown",
   "metadata": {},
   "source": [
    "### Plotted on Block & Sample curve"
   ]
  },
  {
   "cell_type": "code",
   "execution_count": 161,
   "metadata": {
    "collapsed": false
   },
   "outputs": [
    {
     "data": {
      "image/png": "[encoded data removed]",
      "text/plain": [
       "<matplotlib.figure.Figure at 0x1181097d0>"
      ]
     },
     "metadata": {},
     "output_type": "display_data"
    }
   ],
   "source": [
    "graph_bdnf(all_B)"
   ]
  },
  {
   "cell_type": "code",
   "execution_count": 162,
   "metadata": {
    "collapsed": false
   },
   "outputs": [
    {
     "data": {
      "text/html": [
       "<div>\n",
       "<table border=\"1\" class=\"dataframe\">\n",
       "  <thead>\n",
       "    <tr style=\"text-align: right;\">\n",
       "      <th></th>\n",
       "      <th>2 D1</th>\n",
       "      <th>2 D2</th>\n",
       "      <th>436 D1</th>\n",
       "      <th>436 D2</th>\n",
       "    </tr>\n",
       "  </thead>\n",
       "  <tbody>\n",
       "    <tr>\n",
       "      <th>J</th>\n",
       "      <td>150.034548</td>\n",
       "      <td>37.839553</td>\n",
       "      <td>31.829099</td>\n",
       "      <td>31.829099</td>\n",
       "    </tr>\n",
       "    <tr>\n",
       "      <th>B</th>\n",
       "      <td>60.059989</td>\n",
       "      <td>42.210779</td>\n",
       "      <td>43.303593</td>\n",
       "      <td>67.527518</td>\n",
       "    </tr>\n",
       "    <tr>\n",
       "      <th>M</th>\n",
       "      <td>34.561126</td>\n",
       "      <td>45.307068</td>\n",
       "      <td>39.660890</td>\n",
       "      <td>36.928877</td>\n",
       "    </tr>\n",
       "    <tr>\n",
       "      <th>A</th>\n",
       "      <td>38.750215</td>\n",
       "      <td>53.503135</td>\n",
       "      <td>33.104050</td>\n",
       "      <td>59.513589</td>\n",
       "    </tr>\n",
       "  </tbody>\n",
       "</table>\n",
       "</div>"
      ],
      "text/plain": [
       "         2 D1       2 D2     436 D1     436 D2\n",
       "J  150.034548  37.839553  31.829099  31.829099\n",
       "B   60.059989  42.210779  43.303593  67.527518\n",
       "M   34.561126  45.307068  39.660890  36.928877\n",
       "A   38.750215  53.503135  33.104050  59.513589"
      ]
     },
     "execution_count": 162,
     "metadata": {},
     "output_type": "execute_result"
    }
   ],
   "source": [
    "all_B"
   ]
  },
  {
   "cell_type": "markdown",
   "metadata": {},
   "source": [
    "### Plotted on aCSF + BSA Curve"
   ]
  },
  {
   "cell_type": "code",
   "execution_count": 163,
   "metadata": {
    "collapsed": false
   },
   "outputs": [
    {
     "data": {
      "image/png": "[encoded data removed]",
      "text/plain": [
       "<matplotlib.figure.Figure at 0x11b864bd0>"
      ]
     },
     "metadata": {},
     "output_type": "display_data"
    }
   ],
   "source": [
    "graph_bdnf(all_AB)"
   ]
  },
  {
   "cell_type": "code",
   "execution_count": 164,
   "metadata": {
    "collapsed": false
   },
   "outputs": [
    {
     "data": {
      "text/html": [
       "<div>\n",
       "<table border=\"1\" class=\"dataframe\">\n",
       "  <thead>\n",
       "    <tr style=\"text-align: right;\">\n",
       "      <th></th>\n",
       "      <th>2 D1</th>\n",
       "      <th>2 D2</th>\n",
       "      <th>436 D1</th>\n",
       "      <th>436 D2</th>\n",
       "    </tr>\n",
       "  </thead>\n",
       "  <tbody>\n",
       "    <tr>\n",
       "      <th>J</th>\n",
       "      <td>247.753585</td>\n",
       "      <td>66.363687</td>\n",
       "      <td>56.646359</td>\n",
       "      <td>56.646359</td>\n",
       "    </tr>\n",
       "    <tr>\n",
       "      <th>B</th>\n",
       "      <td>102.288308</td>\n",
       "      <td>73.430815</td>\n",
       "      <td>75.197608</td>\n",
       "      <td>114.361346</td>\n",
       "    </tr>\n",
       "    <tr>\n",
       "      <th>M</th>\n",
       "      <td>61.063330</td>\n",
       "      <td>78.436703</td>\n",
       "      <td>69.308313</td>\n",
       "      <td>64.891363</td>\n",
       "    </tr>\n",
       "    <tr>\n",
       "      <th>A</th>\n",
       "      <td>67.835989</td>\n",
       "      <td>91.687595</td>\n",
       "      <td>58.707621</td>\n",
       "      <td>101.404923</td>\n",
       "    </tr>\n",
       "  </tbody>\n",
       "</table>\n",
       "</div>"
      ],
      "text/plain": [
       "         2 D1       2 D2     436 D1      436 D2\n",
       "J  247.753585  66.363687  56.646359   56.646359\n",
       "B  102.288308  73.430815  75.197608  114.361346\n",
       "M   61.063330  78.436703  69.308313   64.891363\n",
       "A   67.835989  91.687595  58.707621  101.404923"
      ]
     },
     "execution_count": 164,
     "metadata": {},
     "output_type": "execute_result"
    }
   ],
   "source": [
    "all_AB"
   ]
  },
  {
   "cell_type": "markdown",
   "metadata": {},
   "source": [
    "### Plotted on Block & Sample + BSA Curve"
   ]
  },
  {
   "cell_type": "code",
   "execution_count": 165,
   "metadata": {
    "collapsed": false
   },
   "outputs": [
    {
     "data": {
      "image/png": "[encoded data removed]",
      "text/plain": [
       "<matplotlib.figure.Figure at 0x118aa9310>"
      ]
     },
     "metadata": {},
     "output_type": "display_data"
    }
   ],
   "source": [
    "graph_bdnf(all_BB)"
   ]
  },
  {
   "cell_type": "code",
   "execution_count": 166,
   "metadata": {
    "collapsed": false
   },
   "outputs": [
    {
     "data": {
      "text/html": [
       "<div>\n",
       "<table border=\"1\" class=\"dataframe\">\n",
       "  <thead>\n",
       "    <tr style=\"text-align: right;\">\n",
       "      <th></th>\n",
       "      <th>2 D1</th>\n",
       "      <th>2 D2</th>\n",
       "      <th>436 D1</th>\n",
       "      <th>436 D2</th>\n",
       "    </tr>\n",
       "  </thead>\n",
       "  <tbody>\n",
       "    <tr>\n",
       "      <th>J</th>\n",
       "      <td>126.920765</td>\n",
       "      <td>20.368035</td>\n",
       "      <td>14.659846</td>\n",
       "      <td>14.659846</td>\n",
       "    </tr>\n",
       "    <tr>\n",
       "      <th>B</th>\n",
       "      <td>41.471010</td>\n",
       "      <td>24.519434</td>\n",
       "      <td>25.557290</td>\n",
       "      <td>48.562999</td>\n",
       "    </tr>\n",
       "    <tr>\n",
       "      <th>M</th>\n",
       "      <td>17.254480</td>\n",
       "      <td>27.460011</td>\n",
       "      <td>22.097778</td>\n",
       "      <td>19.503157</td>\n",
       "    </tr>\n",
       "    <tr>\n",
       "      <th>A</th>\n",
       "      <td>21.232900</td>\n",
       "      <td>35.243899</td>\n",
       "      <td>15.870680</td>\n",
       "      <td>40.952089</td>\n",
       "    </tr>\n",
       "  </tbody>\n",
       "</table>\n",
       "</div>"
      ],
      "text/plain": [
       "         2 D1       2 D2     436 D1     436 D2\n",
       "J  126.920765  20.368035  14.659846  14.659846\n",
       "B   41.471010  24.519434  25.557290  48.562999\n",
       "M   17.254480  27.460011  22.097778  19.503157\n",
       "A   21.232900  35.243899  15.870680  40.952089"
      ]
     },
     "execution_count": 166,
     "metadata": {},
     "output_type": "execute_result"
    }
   ],
   "source": [
    "all_BB"
   ]
  },
  {
   "cell_type": "markdown",
   "metadata": {},
   "source": [
    "### 2 on aCSF, 436 on aCSF+BSA"
   ]
  },
  {
   "cell_type": "code",
   "execution_count": 167,
   "metadata": {
    "collapsed": false
   },
   "outputs": [
    {
     "data": {
      "image/png": "[encoded data removed]",
      "text/plain": [
       "<matplotlib.figure.Figure at 0x11e39f450>"
      ]
     },
     "metadata": {},
     "output_type": "display_data"
    }
   ],
   "source": [
    "graph_bdnf(same_dil_acsf)"
   ]
  },
  {
   "cell_type": "code",
   "execution_count": 168,
   "metadata": {
    "collapsed": false
   },
   "outputs": [
    {
     "data": {
      "text/html": [
       "<div>\n",
       "<table border=\"1\" class=\"dataframe\">\n",
       "  <thead>\n",
       "    <tr style=\"text-align: right;\">\n",
       "      <th></th>\n",
       "      <th>2 D1</th>\n",
       "      <th>2 D2</th>\n",
       "      <th>436 D1</th>\n",
       "      <th>436 D2</th>\n",
       "    </tr>\n",
       "  </thead>\n",
       "  <tbody>\n",
       "    <tr>\n",
       "      <th>J</th>\n",
       "      <td>304.359411</td>\n",
       "      <td>86.461738</td>\n",
       "      <td>56.646359</td>\n",
       "      <td>56.646359</td>\n",
       "    </tr>\n",
       "    <tr>\n",
       "      <th>B</th>\n",
       "      <td>129.616794</td>\n",
       "      <td>94.951244</td>\n",
       "      <td>75.197608</td>\n",
       "      <td>114.361346</td>\n",
       "    </tr>\n",
       "    <tr>\n",
       "      <th>M</th>\n",
       "      <td>80.094595</td>\n",
       "      <td>100.964651</td>\n",
       "      <td>69.308313</td>\n",
       "      <td>64.891363</td>\n",
       "    </tr>\n",
       "    <tr>\n",
       "      <th>A</th>\n",
       "      <td>88.230365</td>\n",
       "      <td>116.882509</td>\n",
       "      <td>58.707621</td>\n",
       "      <td>101.404923</td>\n",
       "    </tr>\n",
       "  </tbody>\n",
       "</table>\n",
       "</div>"
      ],
      "text/plain": [
       "         2 D1        2 D2     436 D1      436 D2\n",
       "J  304.359411   86.461738  56.646359   56.646359\n",
       "B  129.616794   94.951244  75.197608  114.361346\n",
       "M   80.094595  100.964651  69.308313   64.891363\n",
       "A   88.230365  116.882509  58.707621  101.404923"
      ]
     },
     "execution_count": 168,
     "metadata": {},
     "output_type": "execute_result"
    }
   ],
   "source": [
    "same_dil_acsf"
   ]
  },
  {
   "cell_type": "markdown",
   "metadata": {},
   "source": [
    "### 2 on Block & Sample, 426 on Block and Sample + aCSF"
   ]
  },
  {
   "cell_type": "code",
   "execution_count": 169,
   "metadata": {
    "collapsed": false
   },
   "outputs": [
    {
     "data": {
      "image/png": "[encoded data removed]",
      "text/plain": [
       "<matplotlib.figure.Figure at 0x11eac0810>"
      ]
     },
     "metadata": {},
     "output_type": "display_data"
    }
   ],
   "source": [
    "graph_bdnf(same_dil_BSA)"
   ]
  },
  {
   "cell_type": "code",
   "execution_count": 170,
   "metadata": {
    "collapsed": false
   },
   "outputs": [
    {
     "data": {
      "text/html": [
       "<div>\n",
       "<table border=\"1\" class=\"dataframe\">\n",
       "  <thead>\n",
       "    <tr style=\"text-align: right;\">\n",
       "      <th></th>\n",
       "      <th>2 D1</th>\n",
       "      <th>2 D2</th>\n",
       "      <th>436 D1</th>\n",
       "      <th>436 D2</th>\n",
       "    </tr>\n",
       "  </thead>\n",
       "  <tbody>\n",
       "    <tr>\n",
       "      <th>J</th>\n",
       "      <td>150.034548</td>\n",
       "      <td>37.839553</td>\n",
       "      <td>14.659846</td>\n",
       "      <td>14.659846</td>\n",
       "    </tr>\n",
       "    <tr>\n",
       "      <th>B</th>\n",
       "      <td>60.059989</td>\n",
       "      <td>42.210779</td>\n",
       "      <td>25.557290</td>\n",
       "      <td>48.562999</td>\n",
       "    </tr>\n",
       "    <tr>\n",
       "      <th>M</th>\n",
       "      <td>34.561126</td>\n",
       "      <td>45.307068</td>\n",
       "      <td>22.097778</td>\n",
       "      <td>19.503157</td>\n",
       "    </tr>\n",
       "    <tr>\n",
       "      <th>A</th>\n",
       "      <td>38.750215</td>\n",
       "      <td>53.503135</td>\n",
       "      <td>15.870680</td>\n",
       "      <td>40.952089</td>\n",
       "    </tr>\n",
       "  </tbody>\n",
       "</table>\n",
       "</div>"
      ],
      "text/plain": [
       "         2 D1       2 D2     436 D1     436 D2\n",
       "J  150.034548  37.839553  14.659846  14.659846\n",
       "B   60.059989  42.210779  25.557290  48.562999\n",
       "M   34.561126  45.307068  22.097778  19.503157\n",
       "A   38.750215  53.503135  15.870680  40.952089"
      ]
     },
     "execution_count": 170,
     "metadata": {},
     "output_type": "execute_result"
    }
   ],
   "source": [
    "same_dil_BSA"
   ]
  }
 ],
 "metadata": {
  "kernelspec": {
   "display_name": "Python 2",
   "language": "python",
   "name": "python2"
  },
  "language_info": {
   "codemirror_mode": {
    "name": "ipython",
    "version": 2
   },
   "file_extension": ".py",
   "mimetype": "text/x-python",
   "name": "python",
   "nbconvert_exporter": "python",
   "pygments_lexer": "ipython2",
   "version": "2.7.11"
  }
 },
 "nbformat": 4,
 "nbformat_minor": 0
}
